{
 "cells": [
  {
   "cell_type": "code",
   "execution_count": 3,
   "metadata": {},
   "outputs": [],
   "source": [
    "def dice_expectation(n):\n",
    "    dp =[0]*(n +1)# 初始化动态规划数组\n",
    "    # 从右向左递推计算\n",
    "    for i in range(n-1,-1,-1):\n",
    "        if i+6>= n:# 如果临近终点，转移方程需要特殊处理\n",
    "            dp[i]=1+sum(dp[i+1:])/min(n-i,6)\n",
    "        else:\n",
    "            dp[i]=1+sum(dp[i+1:i+7])/6\n",
    "    return dp[0]"
   ]
  },
  {
   "cell_type": "code",
   "execution_count": 4,
   "metadata": {},
   "outputs": [
    {
     "name": "stdout",
     "output_type": "stream",
     "text": [
      "当 n=7 时，棋子需要走的轮数的期望为: 2.8583333333333334\n"
     ]
    }
   ],
   "source": [
    "print(\"当 n=7 时，棋子需要走的轮数的期望为:\", dice_expectation(7))"
   ]
  },
  {
   "cell_type": "code",
   "execution_count": 5,
   "metadata": {},
   "outputs": [],
   "source": [
    "def diceexpectation(n):\n",
    "    dp=[0]*(n+6)# 初始化动态规划数组，多出6个位置用于处理边界条件\n",
    "    for i in range(n-1,-1,-1):\n",
    "        if i+6>= n: # 处理临近终点的情况\n",
    "            dp[i]=1+sum(dp[i+1:i+7])/min(n-i,6)\n",
    "        else:\n",
    "            dp[i]=1+sum(dp[i+1:i+7])/6\n",
    "    return dp[0]"
   ]
  },
  {
   "cell_type": "code",
   "execution_count": 6,
   "metadata": {},
   "outputs": [
    {
     "data": {
      "text/plain": [
       "2.8583333333333334"
      ]
     },
     "execution_count": 6,
     "metadata": {},
     "output_type": "execute_result"
    }
   ],
   "source": [
    "diceexpectation(7)"
   ]
  },
  {
   "cell_type": "code",
   "execution_count": 8,
   "metadata": {},
   "outputs": [
    {
     "data": {
      "text/plain": [
       "3.1680555555555556"
      ]
     },
     "execution_count": 8,
     "metadata": {},
     "output_type": "execute_result"
    }
   ],
   "source": [
    "diceexpectation(8)"
   ]
  },
  {
   "cell_type": "code",
   "execution_count": 7,
   "metadata": {},
   "outputs": [
    {
     "name": "stdout",
     "output_type": "stream",
     "text": [
      "6\n",
      "5\n",
      "4\n",
      "3\n",
      "2\n",
      "1\n",
      "0\n"
     ]
    }
   ],
   "source": [
    "for i in range(7-1,-1,-1):\n",
    "    print(i)"
   ]
  },
  {
   "cell_type": "code",
   "execution_count": null,
   "metadata": {},
   "outputs": [],
   "source": []
  }
 ],
 "metadata": {
  "kernelspec": {
   "display_name": "mypy38",
   "language": "python",
   "name": "python3"
  },
  "language_info": {
   "codemirror_mode": {
    "name": "ipython",
    "version": 3
   },
   "file_extension": ".py",
   "mimetype": "text/x-python",
   "name": "python",
   "nbconvert_exporter": "python",
   "pygments_lexer": "ipython3",
   "version": "3.8.17"
  }
 },
 "nbformat": 4,
 "nbformat_minor": 2
}
