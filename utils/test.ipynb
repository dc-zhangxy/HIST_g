{
 "cells": [
  {
   "cell_type": "code",
   "execution_count": 103,
   "metadata": {},
   "outputs": [],
   "source": [
    "import pickle\n",
    "import pandas as pd\n",
    "import numpy as np\n",
    "from datetime import datetime\n",
    "import statsmodels.tsa.api as smt"
   ]
  },
  {
   "cell_type": "code",
   "execution_count": 104,
   "metadata": {},
   "outputs": [],
   "source": [
    "labels = pickle.load (open('HIST_newdata/output51/label1to21.pkl','rb') )"
   ]
  },
  {
   "cell_type": "code",
   "execution_count": 52,
   "metadata": {},
   "outputs": [],
   "source": [
    "dataname = 'all_'+'HIST'+''\n",
    "GRU_1=pickle.load(open('HIST_newdata/output51/'+dataname+'/rolling2009-01-01/pred.pkl.test0','rb'))\n",
    "GRU_1.columns = ['score1','label1']"
   ]
  },
  {
   "cell_type": "code",
   "execution_count": 105,
   "metadata": {},
   "outputs": [
    {
     "data": {
      "text/html": [
       "<div>\n",
       "<style scoped>\n",
       "    .dataframe tbody tr th:only-of-type {\n",
       "        vertical-align: middle;\n",
       "    }\n",
       "\n",
       "    .dataframe tbody tr th {\n",
       "        vertical-align: top;\n",
       "    }\n",
       "\n",
       "    .dataframe thead th {\n",
       "        text-align: right;\n",
       "    }\n",
       "</style>\n",
       "<table border=\"1\" class=\"dataframe\">\n",
       "  <thead>\n",
       "    <tr style=\"text-align: right;\">\n",
       "      <th></th>\n",
       "      <th></th>\n",
       "      <th>score</th>\n",
       "      <th>label</th>\n",
       "      <th>score_0</th>\n",
       "      <th>score_1</th>\n",
       "      <th>score_2</th>\n",
       "    </tr>\n",
       "    <tr>\n",
       "      <th>datetime</th>\n",
       "      <th>instrument</th>\n",
       "      <th></th>\n",
       "      <th></th>\n",
       "      <th></th>\n",
       "      <th></th>\n",
       "      <th></th>\n",
       "    </tr>\n",
       "  </thead>\n",
       "  <tbody>\n",
       "    <tr>\n",
       "      <th rowspan=\"5\" valign=\"top\">2019-01-02</th>\n",
       "      <th>SH000300</th>\n",
       "      <td>-0.015012</td>\n",
       "      <td>0.244848</td>\n",
       "      <td>-0.015012</td>\n",
       "      <td>0.196364</td>\n",
       "      <td>0.019862</td>\n",
       "    </tr>\n",
       "    <tr>\n",
       "      <th>SH000905</th>\n",
       "      <td>-0.014663</td>\n",
       "      <td>0.157715</td>\n",
       "      <td>-0.014663</td>\n",
       "      <td>0.224979</td>\n",
       "      <td>0.018708</td>\n",
       "    </tr>\n",
       "    <tr>\n",
       "      <th>SH000906</th>\n",
       "      <td>-0.018329</td>\n",
       "      <td>0.224890</td>\n",
       "      <td>-0.018329</td>\n",
       "      <td>0.205241</td>\n",
       "      <td>0.020559</td>\n",
       "    </tr>\n",
       "    <tr>\n",
       "      <th>SH000985</th>\n",
       "      <td>-0.016305</td>\n",
       "      <td>0.230732</td>\n",
       "      <td>-0.016305</td>\n",
       "      <td>0.212579</td>\n",
       "      <td>0.018887</td>\n",
       "    </tr>\n",
       "    <tr>\n",
       "      <th>SH600000</th>\n",
       "      <td>-0.211410</td>\n",
       "      <td>-0.198604</td>\n",
       "      <td>-0.172697</td>\n",
       "      <td>-0.178636</td>\n",
       "      <td>-0.211410</td>\n",
       "    </tr>\n",
       "    <tr>\n",
       "      <th>...</th>\n",
       "      <th>...</th>\n",
       "      <td>...</td>\n",
       "      <td>...</td>\n",
       "      <td>...</td>\n",
       "      <td>...</td>\n",
       "      <td>...</td>\n",
       "    </tr>\n",
       "    <tr>\n",
       "      <th rowspan=\"5\" valign=\"top\">2022-12-30</th>\n",
       "      <th>SZ301389</th>\n",
       "      <td>-0.334976</td>\n",
       "      <td>0.229846</td>\n",
       "      <td>-0.334976</td>\n",
       "      <td>-0.341819</td>\n",
       "      <td>-0.335525</td>\n",
       "    </tr>\n",
       "    <tr>\n",
       "      <th>SZ301391</th>\n",
       "      <td>-0.352050</td>\n",
       "      <td>1.678695</td>\n",
       "      <td>-0.352050</td>\n",
       "      <td>-0.363011</td>\n",
       "      <td>-0.316488</td>\n",
       "    </tr>\n",
       "    <tr>\n",
       "      <th>SZ301396</th>\n",
       "      <td>-0.185751</td>\n",
       "      <td>-0.656018</td>\n",
       "      <td>-0.185751</td>\n",
       "      <td>-0.184471</td>\n",
       "      <td>-0.146816</td>\n",
       "    </tr>\n",
       "    <tr>\n",
       "      <th>SZ301398</th>\n",
       "      <td>-0.450040</td>\n",
       "      <td>0.297568</td>\n",
       "      <td>-0.450040</td>\n",
       "      <td>-0.464107</td>\n",
       "      <td>-0.452529</td>\n",
       "    </tr>\n",
       "    <tr>\n",
       "      <th>SZ399300</th>\n",
       "      <td>0.201025</td>\n",
       "      <td>1.101686</td>\n",
       "      <td>0.115819</td>\n",
       "      <td>0.201025</td>\n",
       "      <td>0.152544</td>\n",
       "    </tr>\n",
       "  </tbody>\n",
       "</table>\n",
       "<p>4085651 rows × 5 columns</p>\n",
       "</div>"
      ],
      "text/plain": [
       "                          score     label   score_0   score_1   score_2\n",
       "datetime   instrument                                                  \n",
       "2019-01-02 SH000300   -0.015012  0.244848 -0.015012  0.196364  0.019862\n",
       "           SH000905   -0.014663  0.157715 -0.014663  0.224979  0.018708\n",
       "           SH000906   -0.018329  0.224890 -0.018329  0.205241  0.020559\n",
       "           SH000985   -0.016305  0.230732 -0.016305  0.212579  0.018887\n",
       "           SH600000   -0.211410 -0.198604 -0.172697 -0.178636 -0.211410\n",
       "...                         ...       ...       ...       ...       ...\n",
       "2022-12-30 SZ301389   -0.334976  0.229846 -0.334976 -0.341819 -0.335525\n",
       "           SZ301391   -0.352050  1.678695 -0.352050 -0.363011 -0.316488\n",
       "           SZ301396   -0.185751 -0.656018 -0.185751 -0.184471 -0.146816\n",
       "           SZ301398   -0.450040  0.297568 -0.450040 -0.464107 -0.452529\n",
       "           SZ399300    0.201025  1.101686  0.115819  0.201025  0.152544\n",
       "\n",
       "[4085651 rows x 5 columns]"
      ]
     },
     "execution_count": 105,
     "metadata": {},
     "output_type": "execute_result"
    }
   ],
   "source": [
    "GRU_1=pickle.load(open('../TRA/output51/Alpha360_label11/test_pred.pkl','rb'))\n",
    "# GRU_1.columns = ['score1','label1']\n",
    "GRU_1"
   ]
  },
  {
   "cell_type": "code",
   "execution_count": 106,
   "metadata": {},
   "outputs": [],
   "source": [
    "pred_all = pd.merge(GRU_1.reset_index().drop('label',axis=1), labels.reset_index())"
   ]
  },
  {
   "cell_type": "code",
   "execution_count": 107,
   "metadata": {},
   "outputs": [],
   "source": [
    "pred_all1 = pred_all.set_index(['datetime','instrument'])\n",
    "pred_all_norm = pred_all1.groupby(level='datetime', group_keys=False).apply(lambda x:(x-x.mean())/x.std())\n",
    "# pred_all_norm.corr(method='spearman')*100\n"
   ]
  },
  {
   "cell_type": "code",
   "execution_count": 55,
   "metadata": {},
   "outputs": [],
   "source": [
    "with open('acf.txt','a',encoding='utf-8') as f:\n",
    "    for i in [1,2,6,11,21]:\n",
    "        rankic = pred_all_norm.groupby(level='datetime').apply(lambda x: x['label'+str(i)].corr(x['score1'], method='spearman')).mean()\n",
    "        f.write(str(rankic*100)+'\\t')\n",
    "    f.write('\\n')"
   ]
  },
  {
   "cell_type": "code",
   "execution_count": null,
   "metadata": {},
   "outputs": [],
   "source": []
  },
  {
   "cell_type": "code",
   "execution_count": 109,
   "metadata": {},
   "outputs": [],
   "source": [
    "for i in [6,11,21]:\n",
    "    if i ==1:\n",
    "        ic_TRA1 = pred_all_norm.groupby(level='datetime').apply(lambda x: x['label'+str(i)].corr(x['score'], method='spearman'))\n",
    "        ic_TRA1 = ic_TRA1.reset_index()\n",
    "        ic_TRA1.columns = ['date','rankIC'+str(i)]\n",
    "    elif i ==2:\n",
    "        ic_TRA2 = pred_all_norm.groupby(level='datetime').apply(lambda x: x['label'+str(i)].corr(x['score'], method='spearman'))\n",
    "        ic_TRA2 = ic_TRA2.reset_index()\n",
    "        ic_TRA2.columns = ['date','rankIC'+str(i)]\n",
    "        ic_all =   pd.merge(ic_TRA1, ic_TRA2)\n",
    "    else:\n",
    "        ic_TRA = pred_all_norm.groupby(level='datetime').apply(lambda x: x['label'+str(i)].corr(x['score'], method='spearman'))\n",
    "        ic_TRA = ic_TRA.reset_index()\n",
    "        ic_TRA.columns = ['date','rankIC'+str(i)]\n",
    "        ic_all =   pd.merge(ic_all, ic_TRA)"
   ]
  },
  {
   "cell_type": "code",
   "execution_count": 113,
   "metadata": {},
   "outputs": [
    {
     "data": {
      "text/html": [
       "<div>\n",
       "<style scoped>\n",
       "    .dataframe tbody tr th:only-of-type {\n",
       "        vertical-align: middle;\n",
       "    }\n",
       "\n",
       "    .dataframe tbody tr th {\n",
       "        vertical-align: top;\n",
       "    }\n",
       "\n",
       "    .dataframe thead th {\n",
       "        text-align: right;\n",
       "    }\n",
       "</style>\n",
       "<table border=\"1\" class=\"dataframe\">\n",
       "  <thead>\n",
       "    <tr style=\"text-align: right;\">\n",
       "      <th></th>\n",
       "      <th>rankIC1</th>\n",
       "      <th>rankIC2</th>\n",
       "      <th>rankIC6</th>\n",
       "      <th>y</th>\n",
       "      <th>rankIC11</th>\n",
       "      <th>date</th>\n",
       "      <th>rankIC21</th>\n",
       "    </tr>\n",
       "  </thead>\n",
       "  <tbody>\n",
       "  </tbody>\n",
       "</table>\n",
       "</div>"
      ],
      "text/plain": [
       "Empty DataFrame\n",
       "Columns: [rankIC1, rankIC2, rankIC6, y, rankIC11, date, rankIC21]\n",
       "Index: []"
      ]
     },
     "execution_count": 113,
     "metadata": {},
     "output_type": "execute_result"
    }
   ],
   "source": [
    "ic_all"
   ]
  },
  {
   "cell_type": "code",
   "execution_count": 112,
   "metadata": {},
   "outputs": [
    {
     "ename": "ValueError",
     "evalue": "Length mismatch: Expected axis has 7 elements, new values have 4 elements",
     "output_type": "error",
     "traceback": [
      "\u001b[0;31m---------------------------------------------------------------------------\u001b[0m",
      "\u001b[0;31mValueError\u001b[0m                                Traceback (most recent call last)",
      "Cell \u001b[0;32mIn[112], line 1\u001b[0m\n\u001b[0;32m----> 1\u001b[0m \u001b[43mic_all\u001b[49m\u001b[38;5;241;43m.\u001b[39;49m\u001b[43mcolumns\u001b[49m \u001b[38;5;241m=\u001b[39m [\u001b[38;5;124m'\u001b[39m\u001b[38;5;124mdate\u001b[39m\u001b[38;5;124m'\u001b[39m,\u001b[38;5;124m'\u001b[39m\u001b[38;5;124mrankIC6\u001b[39m\u001b[38;5;124m'\u001b[39m,\u001b[38;5;124m'\u001b[39m\u001b[38;5;124mrankIC11\u001b[39m\u001b[38;5;124m'\u001b[39m,\u001b[38;5;124m'\u001b[39m\u001b[38;5;124mrankIC21\u001b[39m\u001b[38;5;124m'\u001b[39m]\n\u001b[1;32m      2\u001b[0m ic_all[\u001b[38;5;124m'\u001b[39m\u001b[38;5;124my\u001b[39m\u001b[38;5;124m'\u001b[39m] \u001b[38;5;241m=\u001b[39m ic_all\u001b[38;5;241m.\u001b[39mdate\u001b[38;5;241m.\u001b[39mapply(\u001b[38;5;28;01mlambda\u001b[39;00m x: \u001b[38;5;28mstr\u001b[39m(x)[:\u001b[38;5;241m4\u001b[39m])\n\u001b[1;32m      3\u001b[0m ic_all\u001b[38;5;241m.\u001b[39mgroupby(\u001b[38;5;124m'\u001b[39m\u001b[38;5;124my\u001b[39m\u001b[38;5;124m'\u001b[39m)\u001b[38;5;241m.\u001b[39mmean(numeric_only\u001b[38;5;241m=\u001b[39m\u001b[38;5;28;01mTrue\u001b[39;00m)\u001b[38;5;241m*\u001b[39m\u001b[38;5;241m100\u001b[39m\n",
      "File \u001b[0;32m~/anaconda3/envs/mypy38/lib/python3.8/site-packages/pandas/core/generic.py:5915\u001b[0m, in \u001b[0;36mNDFrame.__setattr__\u001b[0;34m(self, name, value)\u001b[0m\n\u001b[1;32m   5913\u001b[0m \u001b[38;5;28;01mtry\u001b[39;00m:\n\u001b[1;32m   5914\u001b[0m     \u001b[38;5;28mobject\u001b[39m\u001b[38;5;241m.\u001b[39m\u001b[38;5;21m__getattribute__\u001b[39m(\u001b[38;5;28mself\u001b[39m, name)\n\u001b[0;32m-> 5915\u001b[0m     \u001b[38;5;28;01mreturn\u001b[39;00m \u001b[38;5;28;43mobject\u001b[39;49m\u001b[38;5;241;43m.\u001b[39;49m\u001b[38;5;21;43m__setattr__\u001b[39;49m\u001b[43m(\u001b[49m\u001b[38;5;28;43mself\u001b[39;49m\u001b[43m,\u001b[49m\u001b[43m \u001b[49m\u001b[43mname\u001b[49m\u001b[43m,\u001b[49m\u001b[43m \u001b[49m\u001b[43mvalue\u001b[49m\u001b[43m)\u001b[49m\n\u001b[1;32m   5916\u001b[0m \u001b[38;5;28;01mexcept\u001b[39;00m \u001b[38;5;167;01mAttributeError\u001b[39;00m:\n\u001b[1;32m   5917\u001b[0m     \u001b[38;5;28;01mpass\u001b[39;00m\n",
      "File \u001b[0;32m~/anaconda3/envs/mypy38/lib/python3.8/site-packages/pandas/_libs/properties.pyx:69\u001b[0m, in \u001b[0;36mpandas._libs.properties.AxisProperty.__set__\u001b[0;34m()\u001b[0m\n",
      "File \u001b[0;32m~/anaconda3/envs/mypy38/lib/python3.8/site-packages/pandas/core/generic.py:823\u001b[0m, in \u001b[0;36mNDFrame._set_axis\u001b[0;34m(self, axis, labels)\u001b[0m\n\u001b[1;32m    821\u001b[0m \u001b[38;5;28;01mdef\u001b[39;00m \u001b[38;5;21m_set_axis\u001b[39m(\u001b[38;5;28mself\u001b[39m, axis: \u001b[38;5;28mint\u001b[39m, labels: AnyArrayLike \u001b[38;5;241m|\u001b[39m \u001b[38;5;28mlist\u001b[39m) \u001b[38;5;241m-\u001b[39m\u001b[38;5;241m>\u001b[39m \u001b[38;5;28;01mNone\u001b[39;00m:\n\u001b[1;32m    822\u001b[0m     labels \u001b[38;5;241m=\u001b[39m ensure_index(labels)\n\u001b[0;32m--> 823\u001b[0m     \u001b[38;5;28;43mself\u001b[39;49m\u001b[38;5;241;43m.\u001b[39;49m\u001b[43m_mgr\u001b[49m\u001b[38;5;241;43m.\u001b[39;49m\u001b[43mset_axis\u001b[49m\u001b[43m(\u001b[49m\u001b[43maxis\u001b[49m\u001b[43m,\u001b[49m\u001b[43m \u001b[49m\u001b[43mlabels\u001b[49m\u001b[43m)\u001b[49m\n\u001b[1;32m    824\u001b[0m     \u001b[38;5;28mself\u001b[39m\u001b[38;5;241m.\u001b[39m_clear_item_cache()\n",
      "File \u001b[0;32m~/anaconda3/envs/mypy38/lib/python3.8/site-packages/pandas/core/internals/managers.py:230\u001b[0m, in \u001b[0;36mBaseBlockManager.set_axis\u001b[0;34m(self, axis, new_labels)\u001b[0m\n\u001b[1;32m    228\u001b[0m \u001b[38;5;28;01mdef\u001b[39;00m \u001b[38;5;21mset_axis\u001b[39m(\u001b[38;5;28mself\u001b[39m, axis: \u001b[38;5;28mint\u001b[39m, new_labels: Index) \u001b[38;5;241m-\u001b[39m\u001b[38;5;241m>\u001b[39m \u001b[38;5;28;01mNone\u001b[39;00m:\n\u001b[1;32m    229\u001b[0m     \u001b[38;5;66;03m# Caller is responsible for ensuring we have an Index object.\u001b[39;00m\n\u001b[0;32m--> 230\u001b[0m     \u001b[38;5;28;43mself\u001b[39;49m\u001b[38;5;241;43m.\u001b[39;49m\u001b[43m_validate_set_axis\u001b[49m\u001b[43m(\u001b[49m\u001b[43maxis\u001b[49m\u001b[43m,\u001b[49m\u001b[43m \u001b[49m\u001b[43mnew_labels\u001b[49m\u001b[43m)\u001b[49m\n\u001b[1;32m    231\u001b[0m     \u001b[38;5;28mself\u001b[39m\u001b[38;5;241m.\u001b[39maxes[axis] \u001b[38;5;241m=\u001b[39m new_labels\n",
      "File \u001b[0;32m~/anaconda3/envs/mypy38/lib/python3.8/site-packages/pandas/core/internals/base.py:70\u001b[0m, in \u001b[0;36mDataManager._validate_set_axis\u001b[0;34m(self, axis, new_labels)\u001b[0m\n\u001b[1;32m     67\u001b[0m     \u001b[38;5;28;01mpass\u001b[39;00m\n\u001b[1;32m     69\u001b[0m \u001b[38;5;28;01melif\u001b[39;00m new_len \u001b[38;5;241m!=\u001b[39m old_len:\n\u001b[0;32m---> 70\u001b[0m     \u001b[38;5;28;01mraise\u001b[39;00m \u001b[38;5;167;01mValueError\u001b[39;00m(\n\u001b[1;32m     71\u001b[0m         \u001b[38;5;124mf\u001b[39m\u001b[38;5;124m\"\u001b[39m\u001b[38;5;124mLength mismatch: Expected axis has \u001b[39m\u001b[38;5;132;01m{\u001b[39;00mold_len\u001b[38;5;132;01m}\u001b[39;00m\u001b[38;5;124m elements, new \u001b[39m\u001b[38;5;124m\"\u001b[39m\n\u001b[1;32m     72\u001b[0m         \u001b[38;5;124mf\u001b[39m\u001b[38;5;124m\"\u001b[39m\u001b[38;5;124mvalues have \u001b[39m\u001b[38;5;132;01m{\u001b[39;00mnew_len\u001b[38;5;132;01m}\u001b[39;00m\u001b[38;5;124m elements\u001b[39m\u001b[38;5;124m\"\u001b[39m\n\u001b[1;32m     73\u001b[0m     )\n",
      "\u001b[0;31mValueError\u001b[0m: Length mismatch: Expected axis has 7 elements, new values have 4 elements"
     ]
    }
   ],
   "source": [
    "ic_all.columns = ['date','rankIC6','rankIC11','rankIC21']\n",
    "ic_all['y'] = ic_all.date.apply(lambda x: str(x)[:4])\n",
    "ic_all.groupby('y').mean(numeric_only=True)*100"
   ]
  },
  {
   "cell_type": "code",
   "execution_count": null,
   "metadata": {},
   "outputs": [],
   "source": []
  },
  {
   "cell_type": "code",
   "execution_count": 20,
   "metadata": {},
   "outputs": [],
   "source": []
  },
  {
   "cell_type": "code",
   "execution_count": 114,
   "metadata": {},
   "outputs": [
    {
     "name": "stdout",
     "output_type": "stream",
     "text": [
      "0.8023170900265403 0.48751060083242925\n"
     ]
    }
   ],
   "source": [
    "acf1 = []\n",
    "acf5 = []\n",
    "\n",
    "stock300 = pred_all_norm.reset_index()['instrument'].drop_duplicates()\n",
    "lens = len(stock300)\n",
    "pred_cal = pred_all_norm.reset_index().set_index(['instrument','datetime'])\n",
    "\n",
    "for a in stock300:\n",
    "    cal_ser = pred_cal.loc[a]\n",
    "    if len(cal_ser)>10:\n",
    "        acf = smt.stattools.acf(cal_ser['score'])\n",
    "        acf1.append(acf[1])\n",
    "        acf5.append(acf[5])\n",
    "    # else:\n",
    "    #     lens = lens-1\n",
    "print(np.mean(acf1),np.mean(acf5))\n",
    "with open('acf.txt','a',encoding='utf-8') as f:\n",
    "    f.write(str(np.mean(acf1))+'\\t')\n",
    "    f.write(str(np.mean(acf5))+'\\t')\n",
    "    f.write('\\n')"
   ]
  },
  {
   "cell_type": "code",
   "execution_count": null,
   "metadata": {},
   "outputs": [],
   "source": []
  },
  {
   "cell_type": "code",
   "execution_count": 48,
   "metadata": {},
   "outputs": [],
   "source": [
    "datanum = 'csi300_'\n",
    "labelt = '' #'_label6to1'\n",
    "with open('HIST_newdata/output6/'+datanum+'GRU'+labelt+'/rolling2009-01-01/pred.pkl.test0','rb')as f: # \n",
    "    pred3=pickle.load(f)\n",
    "pred3.columns = ['score300','label300']"
   ]
  },
  {
   "cell_type": "code",
   "execution_count": 49,
   "metadata": {},
   "outputs": [],
   "source": [
    "pred_300 = pd.merge(GRU_1.reset_index(), pred3.reset_index())\n",
    "# pred_300"
   ]
  },
  {
   "cell_type": "code",
   "execution_count": 50,
   "metadata": {},
   "outputs": [
    {
     "data": {
      "text/plain": [
       "9.124729852633699"
      ]
     },
     "execution_count": 50,
     "metadata": {},
     "output_type": "execute_result"
    }
   ],
   "source": [
    "pred_300_1 = pred_300.set_index(['datetime','instrument'])\n",
    "pred_300_norm = pred_300_1.groupby(level='datetime', group_keys=False).apply(lambda x:(x-x.mean())/x.std())\n",
    "# pred_300_norm.corr(method='spearman')*100\n",
    "pred_300_norm.groupby(level='datetime').apply(lambda x: x['label'+str(300)].corr(x['score1'], method='spearman')).mean()*100"
   ]
  },
  {
   "cell_type": "code",
   "execution_count": 51,
   "metadata": {},
   "outputs": [
    {
     "data": {
      "text/html": [
       "<div>\n",
       "<style scoped>\n",
       "    .dataframe tbody tr th:only-of-type {\n",
       "        vertical-align: middle;\n",
       "    }\n",
       "\n",
       "    .dataframe tbody tr th {\n",
       "        vertical-align: top;\n",
       "    }\n",
       "\n",
       "    .dataframe thead th {\n",
       "        text-align: right;\n",
       "    }\n",
       "</style>\n",
       "<table border=\"1\" class=\"dataframe\">\n",
       "  <thead>\n",
       "    <tr style=\"text-align: right;\">\n",
       "      <th></th>\n",
       "      <th>rankIC</th>\n",
       "    </tr>\n",
       "    <tr>\n",
       "      <th>y</th>\n",
       "      <th></th>\n",
       "    </tr>\n",
       "  </thead>\n",
       "  <tbody>\n",
       "    <tr>\n",
       "      <th>2019</th>\n",
       "      <td>10.678690</td>\n",
       "    </tr>\n",
       "    <tr>\n",
       "      <th>2020</th>\n",
       "      <td>10.326147</td>\n",
       "    </tr>\n",
       "    <tr>\n",
       "      <th>2021</th>\n",
       "      <td>9.221801</td>\n",
       "    </tr>\n",
       "    <tr>\n",
       "      <th>2022</th>\n",
       "      <td>6.254073</td>\n",
       "    </tr>\n",
       "  </tbody>\n",
       "</table>\n",
       "</div>"
      ],
      "text/plain": [
       "         rankIC\n",
       "y              \n",
       "2019  10.678690\n",
       "2020  10.326147\n",
       "2021   9.221801\n",
       "2022   6.254073"
      ]
     },
     "execution_count": 51,
     "metadata": {},
     "output_type": "execute_result"
    }
   ],
   "source": [
    "ic_TRA = pred_300_norm.groupby(level='datetime').apply(lambda x: x['label'+str(300)].corr(x['score1'], method='spearman'))\n",
    "ic_TRA = ic_TRA.reset_index()\n",
    "ic_TRA.columns = ['date','rankIC']\n",
    "ic_TRA['y'] = ic_TRA.date.apply(lambda x: str(x)[:4])\n",
    "ic_TRA.groupby('y').mean(numeric_only=True)*100"
   ]
  },
  {
   "cell_type": "code",
   "execution_count": null,
   "metadata": {},
   "outputs": [],
   "source": []
  },
  {
   "cell_type": "code",
   "execution_count": 95,
   "metadata": {},
   "outputs": [],
   "source": [
    "labels6 = pickle.load (open('../KRNN/output/all_label6to1_KRNN/rolling2008-01-01/pred.pkl.test0','rb') )\n",
    "labels6.columns = ['score6','label6']"
   ]
  },
  {
   "cell_type": "code",
   "execution_count": 96,
   "metadata": {},
   "outputs": [],
   "source": [
    "labels11 = pickle.load (open('../KRNN/output/all_label11to1_KRNN/rolling2008-01-01/pred.pkl.test0','rb') )\n",
    "labels11.columns = ['score11','label11']"
   ]
  },
  {
   "cell_type": "code",
   "execution_count": 97,
   "metadata": {},
   "outputs": [],
   "source": [
    "labels21 = pickle.load (open('../KRNN/output/all_label21to1_KRNN/rolling2008-01-01/pred.pkl.test0','rb') )\n",
    "labels21.columns = ['score21','label21']"
   ]
  },
  {
   "cell_type": "code",
   "execution_count": 98,
   "metadata": {},
   "outputs": [],
   "source": [
    "labels_all = pd.merge(labels6.reset_index().drop('score6',axis=1),labels11.reset_index().drop('score11',axis=1))"
   ]
  },
  {
   "cell_type": "code",
   "execution_count": 99,
   "metadata": {},
   "outputs": [],
   "source": [
    "labels_all = pd.merge(labels_all, labels21.reset_index().drop('score21',axis=1))"
   ]
  },
  {
   "cell_type": "code",
   "execution_count": 100,
   "metadata": {},
   "outputs": [],
   "source": [
    "all_ind = pd.read_csv('data/cn_data_updated/instruments/all_industry.txt', sep='\\t',header=None)\n",
    "# all_ind"
   ]
  },
  {
   "cell_type": "code",
   "execution_count": 101,
   "metadata": {},
   "outputs": [
    {
     "data": {
      "text/html": [
       "<div>\n",
       "<style scoped>\n",
       "    .dataframe tbody tr th:only-of-type {\n",
       "        vertical-align: middle;\n",
       "    }\n",
       "\n",
       "    .dataframe tbody tr th {\n",
       "        vertical-align: top;\n",
       "    }\n",
       "\n",
       "    .dataframe thead th {\n",
       "        text-align: right;\n",
       "    }\n",
       "</style>\n",
       "<table border=\"1\" class=\"dataframe\">\n",
       "  <thead>\n",
       "    <tr style=\"text-align: right;\">\n",
       "      <th></th>\n",
       "      <th>datetime</th>\n",
       "      <th>instrument</th>\n",
       "      <th>label6</th>\n",
       "      <th>label11</th>\n",
       "      <th>label21</th>\n",
       "    </tr>\n",
       "  </thead>\n",
       "  <tbody>\n",
       "    <tr>\n",
       "      <th>0</th>\n",
       "      <td>2017-01-03</td>\n",
       "      <td>SH600000</td>\n",
       "      <td>0.338786</td>\n",
       "      <td>1.371176</td>\n",
       "      <td>1.091431</td>\n",
       "    </tr>\n",
       "    <tr>\n",
       "      <th>1</th>\n",
       "      <td>2017-01-03</td>\n",
       "      <td>SH600004</td>\n",
       "      <td>0.641504</td>\n",
       "      <td>0.992920</td>\n",
       "      <td>0.850339</td>\n",
       "    </tr>\n",
       "    <tr>\n",
       "      <th>2</th>\n",
       "      <td>2017-01-03</td>\n",
       "      <td>SH600006</td>\n",
       "      <td>0.087595</td>\n",
       "      <td>0.547304</td>\n",
       "      <td>0.306904</td>\n",
       "    </tr>\n",
       "    <tr>\n",
       "      <th>3</th>\n",
       "      <td>2017-01-03</td>\n",
       "      <td>SH600007</td>\n",
       "      <td>1.094937</td>\n",
       "      <td>1.514964</td>\n",
       "      <td>1.147469</td>\n",
       "    </tr>\n",
       "    <tr>\n",
       "      <th>4</th>\n",
       "      <td>2017-01-03</td>\n",
       "      <td>SH600008</td>\n",
       "      <td>0.264073</td>\n",
       "      <td>1.240341</td>\n",
       "      <td>0.763025</td>\n",
       "    </tr>\n",
       "    <tr>\n",
       "      <th>...</th>\n",
       "      <td>...</td>\n",
       "      <td>...</td>\n",
       "      <td>...</td>\n",
       "      <td>...</td>\n",
       "      <td>...</td>\n",
       "    </tr>\n",
       "    <tr>\n",
       "      <th>6679472</th>\n",
       "      <td>2023-12-29</td>\n",
       "      <td>SZ301518</td>\n",
       "      <td>-0.175927</td>\n",
       "      <td>-0.220445</td>\n",
       "      <td>-0.357976</td>\n",
       "    </tr>\n",
       "    <tr>\n",
       "      <th>6679473</th>\n",
       "      <td>2023-12-29</td>\n",
       "      <td>SZ301519</td>\n",
       "      <td>-0.087141</td>\n",
       "      <td>-0.525120</td>\n",
       "      <td>-0.391537</td>\n",
       "    </tr>\n",
       "    <tr>\n",
       "      <th>6679474</th>\n",
       "      <td>2023-12-29</td>\n",
       "      <td>SZ301525</td>\n",
       "      <td>-0.630376</td>\n",
       "      <td>0.665941</td>\n",
       "      <td>-0.859407</td>\n",
       "    </tr>\n",
       "    <tr>\n",
       "      <th>6679475</th>\n",
       "      <td>2023-12-29</td>\n",
       "      <td>SZ301528</td>\n",
       "      <td>-0.897390</td>\n",
       "      <td>-1.393081</td>\n",
       "      <td>-1.402952</td>\n",
       "    </tr>\n",
       "    <tr>\n",
       "      <th>6679476</th>\n",
       "      <td>2023-12-29</td>\n",
       "      <td>SZ301533</td>\n",
       "      <td>0.259451</td>\n",
       "      <td>-0.254005</td>\n",
       "      <td>0.658045</td>\n",
       "    </tr>\n",
       "  </tbody>\n",
       "</table>\n",
       "<p>6679477 rows × 5 columns</p>\n",
       "</div>"
      ],
      "text/plain": [
       "          datetime instrument    label6   label11   label21\n",
       "0       2017-01-03   SH600000  0.338786  1.371176  1.091431\n",
       "1       2017-01-03   SH600004  0.641504  0.992920  0.850339\n",
       "2       2017-01-03   SH600006  0.087595  0.547304  0.306904\n",
       "3       2017-01-03   SH600007  1.094937  1.514964  1.147469\n",
       "4       2017-01-03   SH600008  0.264073  1.240341  0.763025\n",
       "...            ...        ...       ...       ...       ...\n",
       "6679472 2023-12-29   SZ301518 -0.175927 -0.220445 -0.357976\n",
       "6679473 2023-12-29   SZ301519 -0.087141 -0.525120 -0.391537\n",
       "6679474 2023-12-29   SZ301525 -0.630376  0.665941 -0.859407\n",
       "6679475 2023-12-29   SZ301528 -0.897390 -1.393081 -1.402952\n",
       "6679476 2023-12-29   SZ301533  0.259451 -0.254005  0.658045\n",
       "\n",
       "[6679477 rows x 5 columns]"
      ]
     },
     "execution_count": 101,
     "metadata": {},
     "output_type": "execute_result"
    }
   ],
   "source": [
    "# labels_all = labels_all.reset_index()\n",
    "all_industry = labels_all[labels_all['instrument'].isin(all_ind[0])] \n",
    "all_industry"
   ]
  },
  {
   "cell_type": "code",
   "execution_count": 102,
   "metadata": {},
   "outputs": [],
   "source": [
    "all_industry.set_index(['datetime','instrument']).to_pickle('../KRNN/output/label6to21.pkl')"
   ]
  },
  {
   "cell_type": "code",
   "execution_count": null,
   "metadata": {},
   "outputs": [],
   "source": []
  }
 ],
 "metadata": {
  "kernelspec": {
   "display_name": "mypy38",
   "language": "python",
   "name": "python3"
  },
  "language_info": {
   "codemirror_mode": {
    "name": "ipython",
    "version": 3
   },
   "file_extension": ".py",
   "mimetype": "text/x-python",
   "name": "python",
   "nbconvert_exporter": "python",
   "pygments_lexer": "ipython3",
   "version": "3.8.17"
  }
 },
 "nbformat": 4,
 "nbformat_minor": 2
}
