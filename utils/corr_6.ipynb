{
 "cells": [
  {
   "cell_type": "code",
   "execution_count": 39,
   "metadata": {},
   "outputs": [],
   "source": [
    "import pickle\n",
    "import pandas as pd\n",
    "import numpy as np\n",
    "from datetime import datetime\n",
    "import statsmodels.tsa.api as smt"
   ]
  },
  {
   "cell_type": "code",
   "execution_count": null,
   "metadata": {},
   "outputs": [],
   "source": [
    "GRU_6\tHIST_6\tGRU_11\tHIST_11\tHGAT_11\tHGCN1_11\tGRU_21\tHIST_21\tHGCN1_21\tGRU_21_icloss\tHIST_21_icloss\tHGCN1_21_icloss\n"
   ]
  },
  {
   "cell_type": "code",
   "execution_count": 4,
   "metadata": {},
   "outputs": [],
   "source": [
    "datanames = ['all_' + 'GRU' + '_label6to1',\n",
    "            'all_' + 'HISTdelpre' + '_label6to1',\n",
    "            'all_' + 'GRU' + '_label11to1',\n",
    "            'all_' + 'HISTdelpre' + '_label11to1',]\n",
    "\n",
    "# dir_ = 'HIST_newdata/output51/'+dataname+'/rolling2009-01-01/pred.pkl.test0'"
   ]
  },
  {
   "cell_type": "code",
   "execution_count": 6,
   "metadata": {},
   "outputs": [],
   "source": [
    "dir_ = 'HIST_newdata/output51/'+datanames[0]+'/rolling2009-01-01/pred.pkl.test0'\n",
    "GRU_1 = pickle.load(open(dir_ ,'rb'))\n",
    "GRU_1.columns = ['GRU_6','labelGRU_6']\n",
    "GRU_1 = GRU_1.reset_index()\n",
    "if type(GRU_1['datetime'][0]) == str:\n",
    "    GRU_1['datetime'] = [datetime.strptime(a, '%Y-%m-%d') for a in GRU_1['datetime']]\n",
    "    "
   ]
  },
  {
   "cell_type": "code",
   "execution_count": 7,
   "metadata": {},
   "outputs": [],
   "source": [
    "dir_ = 'HIST_newdata/output51/'+datanames[1]+'/rolling2009-01-01/pred.pkl.test0'\n",
    "GRU_2 = pickle.load(open(dir_ ,'rb'))\n",
    "GRU_2.columns = ['HIST6','label']\n",
    "GRU_2 = GRU_2.reset_index()\n",
    "if type(GRU_2['datetime'][0]) == str:\n",
    "    GRU_2['datetime'] = [datetime.strptime(a, '%Y-%m-%d') for a in GRU_2['datetime']]\n",
    "    "
   ]
  },
  {
   "cell_type": "code",
   "execution_count": 8,
   "metadata": {},
   "outputs": [],
   "source": [
    "pred_all = pd.merge(GRU_1, GRU_2.drop('label',axis=1))"
   ]
  },
  {
   "cell_type": "code",
   "execution_count": 10,
   "metadata": {},
   "outputs": [],
   "source": [
    "dir_ = 'HIST_newdata/output51/'+datanames[2]+'/rolling2009-01-01/pred.pkl.test0'\n",
    "GRU_1 = pickle.load(open(dir_ ,'rb'))\n",
    "GRU_1.columns = ['GRU_11','label']\n",
    "GRU_1 = GRU_1.reset_index()\n",
    "if type(GRU_1['datetime'][0]) == str:\n",
    "    GRU_1['datetime'] = [datetime.strptime(a, '%Y-%m-%d') for a in GRU_1['datetime']]\n",
    "pred_all = pd.merge(pred_all, GRU_1.drop('label',axis=1))"
   ]
  },
  {
   "cell_type": "code",
   "execution_count": 11,
   "metadata": {},
   "outputs": [],
   "source": [
    "dir_ = 'HIST_newdata/output51/'+datanames[3]+'/rolling2009-01-01/pred.pkl.test0'\n",
    "GRU_1 = pickle.load(open(dir_ ,'rb'))\n",
    "GRU_1.columns = ['HIST_11','label']\n",
    "GRU_1 = GRU_1.reset_index()\n",
    "if type(GRU_1['datetime'][0]) == str:\n",
    "    GRU_1['datetime'] = [datetime.strptime(a, '%Y-%m-%d') for a in GRU_1['datetime']]\n",
    "pred_all = pd.merge(pred_all, GRU_1.drop('label',axis=1))"
   ]
  },
  {
   "cell_type": "code",
   "execution_count": 14,
   "metadata": {},
   "outputs": [],
   "source": [
    "datanames = ['all_label11to1_HGAT_09',\n",
    "        'all_ind1' + '_label11to1_' + 'HGCN']\n",
    "\n"
   ]
  },
  {
   "cell_type": "code",
   "execution_count": 16,
   "metadata": {},
   "outputs": [],
   "source": [
    "dir_ = 'HIST_gcn/output51gcn/'+datanames[0]+'/rolling2009-01-01/pred.pkl.test0'\n",
    "GRU_1 = pickle.load(open(dir_ ,'rb'))\n",
    "GRU_1.columns = ['HGAT_11','label']\n",
    "GRU_1 = GRU_1.reset_index()\n",
    "if type(GRU_1['datetime'][0]) == str:\n",
    "    GRU_1['datetime'] = [datetime.strptime(a, '%Y-%m-%d') for a in GRU_1['datetime']]\n",
    "pred_all = pd.merge(pred_all, GRU_1.drop('label',axis=1))"
   ]
  },
  {
   "cell_type": "code",
   "execution_count": 17,
   "metadata": {},
   "outputs": [],
   "source": [
    "dir_ = 'HIST_gcn/output51gcn/'+datanames[1]+'/rolling2009-01-01/pred.pkl.test0'\n",
    "GRU_1 = pickle.load(open(dir_ ,'rb'))\n",
    "GRU_1.columns = ['HGCN_11','label']\n",
    "GRU_1 = GRU_1.reset_index()\n",
    "if type(GRU_1['datetime'][0]) == str:\n",
    "    GRU_1['datetime'] = [datetime.strptime(a, '%Y-%m-%d') for a in GRU_1['datetime']]\n",
    "pred_all = pd.merge(pred_all, GRU_1.drop('label',axis=1))"
   ]
  },
  {
   "cell_type": "code",
   "execution_count": 76,
   "metadata": {},
   "outputs": [],
   "source": [
    "datanames = ['all_label21to1_GRU',\n",
    "            'all_label21to1_HISTdelpre',\n",
    "            'allind1_label21_GCNind1_0930',\n",
    "            'all_label21to1_GRU_icloss',\n",
    "            'all_label21to1_HISTdelpre_icloss']\n",
    "            # 'allind1_label21_GCN_icloss_1130',]"
   ]
  },
  {
   "cell_type": "code",
   "execution_count": 77,
   "metadata": {},
   "outputs": [],
   "source": [
    "dir_ = 'HIST_gcn/output53gcn/'+datanames[0]+'/rolling2005-01-01/pred.pkl.test0'\n",
    "GRU_1 = pickle.load(open(dir_ ,'rb'))\n",
    "GRU_1.columns = ['GRU_21','label']\n",
    "GRU_1 = GRU_1.reset_index()\n",
    "if type(GRU_1['datetime'][0]) == str:\n",
    "    GRU_1['datetime'] = [datetime.strptime(a, '%Y-%m-%d') for a in GRU_1['datetime']]\n",
    "# pred_all = pd.merge(pred_all, GRU_1.drop('label',axis=1))\n",
    "# GRU_1"
   ]
  },
  {
   "cell_type": "code",
   "execution_count": 78,
   "metadata": {},
   "outputs": [],
   "source": [
    "pred_all = GRU_1.drop('label',axis=1)"
   ]
  },
  {
   "cell_type": "code",
   "execution_count": 79,
   "metadata": {},
   "outputs": [],
   "source": [
    "dir_ = 'HIST_gcn/output53gcn/'+datanames[1]+'/rolling2005-01-01/pred.pkl.test0'\n",
    "GRU_1 = pickle.load(open(dir_ ,'rb'))\n",
    "GRU_1.columns = ['HIST_21','label']\n",
    "GRU_1 = GRU_1.reset_index()\n",
    "if type(GRU_1['datetime'][0]) == str:\n",
    "    GRU_1['datetime'] = [datetime.strptime(a, '%Y-%m-%d') for a in GRU_1['datetime']]\n",
    "pred_all = pd.merge(pred_all, GRU_1.drop('label',axis=1))\n",
    "# pred_all"
   ]
  },
  {
   "cell_type": "code",
   "execution_count": null,
   "metadata": {},
   "outputs": [],
   "source": []
  },
  {
   "cell_type": "code",
   "execution_count": 80,
   "metadata": {},
   "outputs": [],
   "source": [
    "dir_ = 'HIST_gcn/output53gcn/'+datanames[2]+'/rolling2005-01-01/pred.pkl.test0'\n",
    "GRU_1 = pickle.load(open(dir_ ,'rb'))\n",
    "GRU_1.columns = ['GCN_21','label']\n",
    "GRU_1 = GRU_1.reset_index()\n",
    "if type(GRU_1['datetime'][0]) == str:\n",
    "    GRU_1['datetime'] = [datetime.strptime(a, '%Y-%m-%d') for a in GRU_1['datetime']]\n",
    "pred_all = pd.merge(pred_all, GRU_1.drop('label',axis=1))\n",
    "# pred_all"
   ]
  },
  {
   "cell_type": "code",
   "execution_count": 75,
   "metadata": {},
   "outputs": [],
   "source": [
    "# dir_ = 'HIST_gcn/output53gcn/'+'allind1_label21_GCN_icloss_1130'+'/rolling2005-01-01/pred.pkl.test0'\n",
    "# GRU_1 = pickle.load(open(dir_ ,'rb'))\n",
    "# GRU_1.columns = ['GCN_21','label']\n",
    "# GRU_1"
   ]
  },
  {
   "cell_type": "code",
   "execution_count": 81,
   "metadata": {},
   "outputs": [],
   "source": [
    "dir_ = 'HIST_gcn/output53gcn/'+datanames[3]+'/rolling2005-01-01/pred.pkl.test0'\n",
    "GRU_1 = pickle.load(open(dir_ ,'rb'))\n",
    "GRU_1.columns = ['GRU_ic','label']\n",
    "GRU_1 = GRU_1.reset_index()\n",
    "if type(GRU_1['datetime'][0]) == str:\n",
    "    GRU_1['datetime'] = [datetime.strptime(a, '%Y-%m-%d') for a in GRU_1['datetime']]\n",
    "pred_all = pd.merge(pred_all, GRU_1.drop('label',axis=1))"
   ]
  },
  {
   "cell_type": "code",
   "execution_count": 82,
   "metadata": {},
   "outputs": [],
   "source": [
    "dir_ = 'HIST_gcn/output53gcn/'+datanames[4]+'/rolling2005-01-01/pred.pkl.test0'\n",
    "GRU_1 = pickle.load(open(dir_ ,'rb'))\n",
    "GRU_1.columns = ['HIST_ic','label']\n",
    "GRU_1 = GRU_1.reset_index()\n",
    "if type(GRU_1['datetime'][0]) == str:\n",
    "    GRU_1['datetime'] = [datetime.strptime(a, '%Y-%m-%d') for a in GRU_1['datetime']]\n",
    "pred_all = pd.merge(pred_all, GRU_1.drop('label',axis=1))"
   ]
  },
  {
   "cell_type": "code",
   "execution_count": null,
   "metadata": {},
   "outputs": [],
   "source": [
    "# dir_ = 'HIST_gcn/output53gcn/'+datanames[5]+'/rolling2005-01-01/pred.pkl.test0'\n",
    "# GRU_1 = pickle.load(open(dir_ ,'rb'))\n",
    "# GRU_1.columns = ['GCN_ic','label']\n",
    "# GRU_1 = GRU_1.reset_index()\n",
    "# if type(GRU_1['datetime'][0]) == str:\n",
    "#     GRU_1['datetime'] = [datetime.strptime(a, '%Y-%m-%d') for a in GRU_1['datetime']]\n",
    "# pred_all = pd.merge(pred_all, GRU_1.drop('label',axis=1))\n"
   ]
  },
  {
   "cell_type": "code",
   "execution_count": 83,
   "metadata": {},
   "outputs": [],
   "source": [
    "pred_all1 = pred_all.set_index(['datetime','instrument'])\n",
    "pred_all_norm = pred_all1.groupby(level='datetime', group_keys=False).apply(lambda x:(x-x.mean())/x.std()) "
   ]
  },
  {
   "cell_type": "code",
   "execution_count": 84,
   "metadata": {},
   "outputs": [
    {
     "data": {
      "text/html": [
       "<div>\n",
       "<style scoped>\n",
       "    .dataframe tbody tr th:only-of-type {\n",
       "        vertical-align: middle;\n",
       "    }\n",
       "\n",
       "    .dataframe tbody tr th {\n",
       "        vertical-align: top;\n",
       "    }\n",
       "\n",
       "    .dataframe thead th {\n",
       "        text-align: right;\n",
       "    }\n",
       "</style>\n",
       "<table border=\"1\" class=\"dataframe\">\n",
       "  <thead>\n",
       "    <tr style=\"text-align: right;\">\n",
       "      <th></th>\n",
       "      <th></th>\n",
       "      <th>GRU_21</th>\n",
       "      <th>HIST_21</th>\n",
       "      <th>GCN_21</th>\n",
       "      <th>GRU_ic</th>\n",
       "      <th>HIST_ic</th>\n",
       "    </tr>\n",
       "    <tr>\n",
       "      <th>datetime</th>\n",
       "      <th>instrument</th>\n",
       "      <th></th>\n",
       "      <th></th>\n",
       "      <th></th>\n",
       "      <th></th>\n",
       "      <th></th>\n",
       "    </tr>\n",
       "  </thead>\n",
       "  <tbody>\n",
       "    <tr>\n",
       "      <th rowspan=\"5\" valign=\"top\">2019-01-02</th>\n",
       "      <th>SH600000</th>\n",
       "      <td>0.188417</td>\n",
       "      <td>0.690674</td>\n",
       "      <td>-0.051114</td>\n",
       "      <td>-0.484688</td>\n",
       "      <td>0.389515</td>\n",
       "    </tr>\n",
       "    <tr>\n",
       "      <th>SH600004</th>\n",
       "      <td>-0.510887</td>\n",
       "      <td>-0.117678</td>\n",
       "      <td>0.333012</td>\n",
       "      <td>-0.245981</td>\n",
       "      <td>-0.030213</td>\n",
       "    </tr>\n",
       "    <tr>\n",
       "      <th>SH600006</th>\n",
       "      <td>0.563399</td>\n",
       "      <td>1.011051</td>\n",
       "      <td>-0.175306</td>\n",
       "      <td>0.739347</td>\n",
       "      <td>1.184354</td>\n",
       "    </tr>\n",
       "    <tr>\n",
       "      <th>SH600007</th>\n",
       "      <td>0.122012</td>\n",
       "      <td>0.206324</td>\n",
       "      <td>0.926702</td>\n",
       "      <td>-0.156932</td>\n",
       "      <td>0.028185</td>\n",
       "    </tr>\n",
       "    <tr>\n",
       "      <th>SH600008</th>\n",
       "      <td>-0.239259</td>\n",
       "      <td>-0.251837</td>\n",
       "      <td>-0.610182</td>\n",
       "      <td>-0.538682</td>\n",
       "      <td>-0.221736</td>\n",
       "    </tr>\n",
       "    <tr>\n",
       "      <th>...</th>\n",
       "      <th>...</th>\n",
       "      <td>...</td>\n",
       "      <td>...</td>\n",
       "      <td>...</td>\n",
       "      <td>...</td>\n",
       "      <td>...</td>\n",
       "    </tr>\n",
       "    <tr>\n",
       "      <th rowspan=\"5\" valign=\"top\">2023-11-01</th>\n",
       "      <th>SZ301518</th>\n",
       "      <td>0.819274</td>\n",
       "      <td>0.445576</td>\n",
       "      <td>0.707547</td>\n",
       "      <td>0.741960</td>\n",
       "      <td>0.355256</td>\n",
       "    </tr>\n",
       "    <tr>\n",
       "      <th>SZ301519</th>\n",
       "      <td>-1.373967</td>\n",
       "      <td>-1.358125</td>\n",
       "      <td>0.411469</td>\n",
       "      <td>-1.022220</td>\n",
       "      <td>-1.129472</td>\n",
       "    </tr>\n",
       "    <tr>\n",
       "      <th>SZ301525</th>\n",
       "      <td>1.019300</td>\n",
       "      <td>0.697150</td>\n",
       "      <td>1.049456</td>\n",
       "      <td>0.159421</td>\n",
       "      <td>0.303923</td>\n",
       "    </tr>\n",
       "    <tr>\n",
       "      <th>SZ301528</th>\n",
       "      <td>-1.515842</td>\n",
       "      <td>-1.647574</td>\n",
       "      <td>-0.778642</td>\n",
       "      <td>-2.188787</td>\n",
       "      <td>-2.431128</td>\n",
       "    </tr>\n",
       "    <tr>\n",
       "      <th>SZ301533</th>\n",
       "      <td>0.665145</td>\n",
       "      <td>0.717032</td>\n",
       "      <td>0.174523</td>\n",
       "      <td>0.191271</td>\n",
       "      <td>0.139594</td>\n",
       "    </tr>\n",
       "  </tbody>\n",
       "</table>\n",
       "<p>4997117 rows × 5 columns</p>\n",
       "</div>"
      ],
      "text/plain": [
       "                         GRU_21   HIST_21    GCN_21    GRU_ic   HIST_ic\n",
       "datetime   instrument                                                  \n",
       "2019-01-02 SH600000    0.188417  0.690674 -0.051114 -0.484688  0.389515\n",
       "           SH600004   -0.510887 -0.117678  0.333012 -0.245981 -0.030213\n",
       "           SH600006    0.563399  1.011051 -0.175306  0.739347  1.184354\n",
       "           SH600007    0.122012  0.206324  0.926702 -0.156932  0.028185\n",
       "           SH600008   -0.239259 -0.251837 -0.610182 -0.538682 -0.221736\n",
       "...                         ...       ...       ...       ...       ...\n",
       "2023-11-01 SZ301518    0.819274  0.445576  0.707547  0.741960  0.355256\n",
       "           SZ301519   -1.373967 -1.358125  0.411469 -1.022220 -1.129472\n",
       "           SZ301525    1.019300  0.697150  1.049456  0.159421  0.303923\n",
       "           SZ301528   -1.515842 -1.647574 -0.778642 -2.188787 -2.431128\n",
       "           SZ301533    0.665145  0.717032  0.174523  0.191271  0.139594\n",
       "\n",
       "[4997117 rows x 5 columns]"
      ]
     },
     "execution_count": 84,
     "metadata": {},
     "output_type": "execute_result"
    }
   ],
   "source": [
    "pred_all_norm"
   ]
  },
  {
   "cell_type": "code",
   "execution_count": null,
   "metadata": {},
   "outputs": [],
   "source": []
  },
  {
   "cell_type": "code",
   "execution_count": 60,
   "metadata": {},
   "outputs": [],
   "source": [
    "# (100*(pred_all_norm.corr(method='spearman'))).to_csv('corr.txt',sep='\\t')"
   ]
  },
  {
   "cell_type": "code",
   "execution_count": 85,
   "metadata": {},
   "outputs": [
    {
     "data": {
      "text/plain": [
       "Index(['GRU_21', 'HIST_21', 'GCN_21', 'GRU_ic', 'HIST_ic'], dtype='object')"
      ]
     },
     "execution_count": 85,
     "metadata": {},
     "output_type": "execute_result"
    }
   ],
   "source": [
    "pred_all_norm.columns"
   ]
  },
  {
   "cell_type": "code",
   "execution_count": 86,
   "metadata": {},
   "outputs": [],
   "source": [
    "pred_all_norm['comb21'] = pred_all_norm[['GRU_21', 'HIST_21', 'GCN_21', 'GRU_ic', 'HIST_ic']].mean(axis=1)\n",
    "# pred_all_norm.corr()"
   ]
  },
  {
   "cell_type": "code",
   "execution_count": 92,
   "metadata": {},
   "outputs": [],
   "source": [
    "pred_all_norm['combHC21'] = pred_all_norm[['HIST_21', 'GCN_21']].mean(axis=1)\n",
    "# pred_all_norm.corr()"
   ]
  },
  {
   "cell_type": "code",
   "execution_count": 63,
   "metadata": {},
   "outputs": [],
   "source": [
    "(100*(pred_all_norm.corr(method='spearman'))).to_csv('corr.txt',sep='\\t')"
   ]
  },
  {
   "cell_type": "code",
   "execution_count": 73,
   "metadata": {},
   "outputs": [
    {
     "data": {
      "text/html": [
       "<div>\n",
       "<style scoped>\n",
       "    .dataframe tbody tr th:only-of-type {\n",
       "        vertical-align: middle;\n",
       "    }\n",
       "\n",
       "    .dataframe tbody tr th {\n",
       "        vertical-align: top;\n",
       "    }\n",
       "\n",
       "    .dataframe thead th {\n",
       "        text-align: right;\n",
       "    }\n",
       "</style>\n",
       "<table border=\"1\" class=\"dataframe\">\n",
       "  <thead>\n",
       "    <tr style=\"text-align: right;\">\n",
       "      <th></th>\n",
       "      <th>rankIC</th>\n",
       "    </tr>\n",
       "    <tr>\n",
       "      <th>y</th>\n",
       "      <th></th>\n",
       "    </tr>\n",
       "  </thead>\n",
       "  <tbody>\n",
       "    <tr>\n",
       "      <th>2019</th>\n",
       "      <td>12.506589</td>\n",
       "    </tr>\n",
       "    <tr>\n",
       "      <th>2020</th>\n",
       "      <td>10.949413</td>\n",
       "    </tr>\n",
       "    <tr>\n",
       "      <th>2021</th>\n",
       "      <td>14.171570</td>\n",
       "    </tr>\n",
       "    <tr>\n",
       "      <th>2022</th>\n",
       "      <td>12.456107</td>\n",
       "    </tr>\n",
       "    <tr>\n",
       "      <th>2023</th>\n",
       "      <td>12.703894</td>\n",
       "    </tr>\n",
       "  </tbody>\n",
       "</table>\n",
       "</div>"
      ],
      "text/plain": [
       "         rankIC\n",
       "y              \n",
       "2019  12.506589\n",
       "2020  10.949413\n",
       "2021  14.171570\n",
       "2022  12.456107\n",
       "2023  12.703894"
      ]
     },
     "execution_count": 73,
     "metadata": {},
     "output_type": "execute_result"
    }
   ],
   "source": [
    "ic_TRA = pred_all_norm.groupby(level='datetime').apply(lambda x: x['label'].corr(x['GCN_21'], method='spearman'))\n",
    "ic_TRA = ic_TRA.reset_index()\n",
    "ic_TRA.columns = ['date','rankIC']\n",
    "ic_TRA['y'] = ic_TRA.date.apply(lambda x: str(x)[:4])\n",
    "ic_TRA.groupby('y').mean(numeric_only=True)*100"
   ]
  },
  {
   "cell_type": "code",
   "execution_count": 94,
   "metadata": {},
   "outputs": [
    {
     "name": "stdout",
     "output_type": "stream",
     "text": [
      "0.8988704466628274 0.6693569157256999\n"
     ]
    }
   ],
   "source": [
    "acf1 = []\n",
    "acf5 = []\n",
    "\n",
    "stock300 = pred_all_norm.reset_index()['instrument'].drop_duplicates()\n",
    "lens = len(stock300)\n",
    "pred_cal = pred_all_norm.reset_index().set_index(['instrument','datetime'])\n",
    "\n",
    "for a in stock300:\n",
    "    cal_ser = pred_cal.loc[a]\n",
    "    if len(cal_ser)>10:\n",
    "        acf = smt.stattools.acf(cal_ser['combHC21'])\n",
    "        acf1.append(acf[1])\n",
    "        acf5.append(acf[5])\n",
    "    # else:\n",
    "    #     lens = lens-1\n",
    "print(np.mean(acf1),np.mean(acf5))\n",
    "with open('acf.txt','a',encoding='utf-8') as f:\n",
    "    f.write(str(np.mean(acf1))+'\\t')\n",
    "    f.write(str(np.mean(acf5))+'\\t')\n",
    "    f.write('\\n')"
   ]
  },
  {
   "cell_type": "code",
   "execution_count": 45,
   "metadata": {},
   "outputs": [],
   "source": [
    "datanum = 'csi800_'\n",
    "labelt = '_label6to1'\n",
    "with open('HIST_newdata/output6/'+datanum+'GRU'+labelt+'/rolling2009-01-01/pred.pkl.test0','rb')as f: # \n",
    "    pred3=pickle.load(f)\n",
    "pred3.columns = ['score300','label300']\n",
    "pred3 = pred3.reset_index()"
   ]
  },
  {
   "cell_type": "code",
   "execution_count": 46,
   "metadata": {},
   "outputs": [
    {
     "data": {
      "text/html": [
       "<div>\n",
       "<style scoped>\n",
       "    .dataframe tbody tr th:only-of-type {\n",
       "        vertical-align: middle;\n",
       "    }\n",
       "\n",
       "    .dataframe tbody tr th {\n",
       "        vertical-align: top;\n",
       "    }\n",
       "\n",
       "    .dataframe thead th {\n",
       "        text-align: right;\n",
       "    }\n",
       "</style>\n",
       "<table border=\"1\" class=\"dataframe\">\n",
       "  <thead>\n",
       "    <tr style=\"text-align: right;\">\n",
       "      <th></th>\n",
       "      <th>rankIC</th>\n",
       "    </tr>\n",
       "    <tr>\n",
       "      <th>y</th>\n",
       "      <th></th>\n",
       "    </tr>\n",
       "  </thead>\n",
       "  <tbody>\n",
       "    <tr>\n",
       "      <th>2019</th>\n",
       "      <td>8.094825</td>\n",
       "    </tr>\n",
       "    <tr>\n",
       "      <th>2020</th>\n",
       "      <td>9.125676</td>\n",
       "    </tr>\n",
       "    <tr>\n",
       "      <th>2021</th>\n",
       "      <td>7.790476</td>\n",
       "    </tr>\n",
       "    <tr>\n",
       "      <th>2022</th>\n",
       "      <td>10.084866</td>\n",
       "    </tr>\n",
       "  </tbody>\n",
       "</table>\n",
       "</div>"
      ],
      "text/plain": [
       "         rankIC\n",
       "y              \n",
       "2019   8.094825\n",
       "2020   9.125676\n",
       "2021   7.790476\n",
       "2022  10.084866"
      ]
     },
     "execution_count": 46,
     "metadata": {},
     "output_type": "execute_result"
    }
   ],
   "source": [
    "pred_300 = pd.merge(pred_all_norm.reset_index(), pred3)\n",
    "pred_300_1 = pred_300.set_index(['datetime','instrument'])\n",
    "pred_300_norm = pred_300_1.groupby(level='datetime', group_keys=False).apply(lambda x:(x-x.mean())/x.std())\n",
    "# pred_all_norm = pred_300_norm.copy()\n",
    "ic_TRA = pred_300_norm.groupby(level='datetime').apply(lambda x: x['label'+str(300)].corr(x['comb'], method='spearman'))\n",
    "ic_TRA = ic_TRA.reset_index()\n",
    "ic_TRA.columns = ['date','rankIC']\n",
    "ic_TRA['y'] = ic_TRA.date.apply(lambda x: str(x)[:4])\n",
    "ic_300_output = ic_TRA.groupby('y').mean(numeric_only=True)*100\n",
    "# ic_300_output.to_csv('ic_300_output'+d+'.txt', sep='\\t', index=False,header=False)\n",
    "ic_300_output"
   ]
  },
  {
   "cell_type": "code",
   "execution_count": 93,
   "metadata": {},
   "outputs": [],
   "source": [
    "pred_all_norm[['combHC21']].to_pickle('combHC21.pkl')"
   ]
  },
  {
   "cell_type": "code",
   "execution_count": 49,
   "metadata": {},
   "outputs": [
    {
     "data": {
      "text/plain": [
       "0.0877191307085285"
      ]
     },
     "execution_count": 49,
     "metadata": {},
     "output_type": "execute_result"
    }
   ],
   "source": [
    "pred_300_norm.groupby(level='datetime').apply(lambda x: x['label'+str(300)].corr(x['comb'], method='spearman')).mean()"
   ]
  },
  {
   "cell_type": "code",
   "execution_count": null,
   "metadata": {},
   "outputs": [],
   "source": [
    "datanames = ['comb',\n",
    "            'comb21',\n",
    "            'combGHC21',\n",
    "            'combHC21']\n"
   ]
  }
 ],
 "metadata": {
  "kernelspec": {
   "display_name": "mypy38",
   "language": "python",
   "name": "python3"
  },
  "language_info": {
   "codemirror_mode": {
    "name": "ipython",
    "version": 3
   },
   "file_extension": ".py",
   "mimetype": "text/x-python",
   "name": "python",
   "nbconvert_exporter": "python",
   "pygments_lexer": "ipython3",
   "version": "3.8.17"
  }
 },
 "nbformat": 4,
 "nbformat_minor": 2
}
