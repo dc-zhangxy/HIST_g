{
 "cells": [
  {
   "cell_type": "code",
   "execution_count": 1,
   "metadata": {},
   "outputs": [],
   "source": [
    "import pickle\n",
    "import pandas as pd\n",
    "import numpy as np\n",
    "from datetime import datetime"
   ]
  },
  {
   "cell_type": "code",
   "execution_count": 3,
   "metadata": {},
   "outputs": [],
   "source": [
    "test_pred5=pickle.load(open('HIST_gcn/output/allind12_label11/rolling2005-01-01/pred.pkl.test0','rb'))\n",
    "# test_pred5"
   ]
  },
  {
   "cell_type": "code",
   "execution_count": 4,
   "metadata": {},
   "outputs": [
    {
     "data": {
      "text/plain": [
       "13.237063348632653"
      ]
     },
     "execution_count": 4,
     "metadata": {},
     "output_type": "execute_result"
    }
   ],
   "source": [
    "test_pred5.groupby(level='datetime').apply(lambda x: x['label'].corr(x['score'], method='spearman')).mean()*100\n",
    "# 'rankIC:',"
   ]
  },
  {
   "cell_type": "code",
   "execution_count": 5,
   "metadata": {},
   "outputs": [
    {
     "data": {
      "text/html": [
       "<div>\n",
       "<style scoped>\n",
       "    .dataframe tbody tr th:only-of-type {\n",
       "        vertical-align: middle;\n",
       "    }\n",
       "\n",
       "    .dataframe tbody tr th {\n",
       "        vertical-align: top;\n",
       "    }\n",
       "\n",
       "    .dataframe thead th {\n",
       "        text-align: right;\n",
       "    }\n",
       "</style>\n",
       "<table border=\"1\" class=\"dataframe\">\n",
       "  <thead>\n",
       "    <tr style=\"text-align: right;\">\n",
       "      <th></th>\n",
       "      <th>rankIC</th>\n",
       "    </tr>\n",
       "    <tr>\n",
       "      <th>y</th>\n",
       "      <th></th>\n",
       "    </tr>\n",
       "  </thead>\n",
       "  <tbody>\n",
       "    <tr>\n",
       "      <th>2019</th>\n",
       "      <td>12.486587</td>\n",
       "    </tr>\n",
       "    <tr>\n",
       "      <th>2020</th>\n",
       "      <td>13.269208</td>\n",
       "    </tr>\n",
       "    <tr>\n",
       "      <th>2021</th>\n",
       "      <td>13.357096</td>\n",
       "    </tr>\n",
       "    <tr>\n",
       "      <th>2022</th>\n",
       "      <td>13.593376</td>\n",
       "    </tr>\n",
       "    <tr>\n",
       "      <th>2023</th>\n",
       "      <td>13.484624</td>\n",
       "    </tr>\n",
       "  </tbody>\n",
       "</table>\n",
       "</div>"
      ],
      "text/plain": [
       "         rankIC\n",
       "y              \n",
       "2019  12.486587\n",
       "2020  13.269208\n",
       "2021  13.357096\n",
       "2022  13.593376\n",
       "2023  13.484624"
      ]
     },
     "execution_count": 5,
     "metadata": {},
     "output_type": "execute_result"
    }
   ],
   "source": [
    "ic_TRA = test_pred5.groupby(level='datetime').apply(lambda x: x['label'].corr(x['score'], method='spearman'))\n",
    "ic_TRA = ic_TRA.reset_index()\n",
    "ic_TRA.columns = ['date','rankIC']\n",
    "ic_TRA['y'] = ic_TRA.date.apply(lambda x: str(x)[:4])\n",
    "ic_TRA.groupby('y').mean(numeric_only=True)*100"
   ]
  },
  {
   "cell_type": "code",
   "execution_count": 6,
   "metadata": {},
   "outputs": [],
   "source": [
    "test_pred5=pickle.load(open('HIST_newdata/output/all_HIST_label11to1_20090430/rolling2009-01-01/pred.pkl.test0','rb'))\n",
    "# test_pred5"
   ]
  },
  {
   "cell_type": "code",
   "execution_count": 7,
   "metadata": {},
   "outputs": [
    {
     "data": {
      "text/plain": [
       "12.32164657074968"
      ]
     },
     "execution_count": 7,
     "metadata": {},
     "output_type": "execute_result"
    }
   ],
   "source": [
    "test_pred5.groupby(level='datetime').apply(lambda x: x['label'].corr(x['score'], method='spearman')).mean()*100\n",
    "# 'rankIC:',"
   ]
  },
  {
   "cell_type": "code",
   "execution_count": 8,
   "metadata": {},
   "outputs": [
    {
     "data": {
      "text/html": [
       "<div>\n",
       "<style scoped>\n",
       "    .dataframe tbody tr th:only-of-type {\n",
       "        vertical-align: middle;\n",
       "    }\n",
       "\n",
       "    .dataframe tbody tr th {\n",
       "        vertical-align: top;\n",
       "    }\n",
       "\n",
       "    .dataframe thead th {\n",
       "        text-align: right;\n",
       "    }\n",
       "</style>\n",
       "<table border=\"1\" class=\"dataframe\">\n",
       "  <thead>\n",
       "    <tr style=\"text-align: right;\">\n",
       "      <th></th>\n",
       "      <th>rankIC</th>\n",
       "    </tr>\n",
       "    <tr>\n",
       "      <th>y</th>\n",
       "      <th></th>\n",
       "    </tr>\n",
       "  </thead>\n",
       "  <tbody>\n",
       "    <tr>\n",
       "      <th>2019</th>\n",
       "      <td>13.599719</td>\n",
       "    </tr>\n",
       "    <tr>\n",
       "      <th>2020</th>\n",
       "      <td>11.791470</td>\n",
       "    </tr>\n",
       "    <tr>\n",
       "      <th>2021</th>\n",
       "      <td>11.524808</td>\n",
       "    </tr>\n",
       "    <tr>\n",
       "      <th>2022</th>\n",
       "      <td>12.365510</td>\n",
       "    </tr>\n",
       "  </tbody>\n",
       "</table>\n",
       "</div>"
      ],
      "text/plain": [
       "         rankIC\n",
       "y              \n",
       "2019  13.599719\n",
       "2020  11.791470\n",
       "2021  11.524808\n",
       "2022  12.365510"
      ]
     },
     "execution_count": 8,
     "metadata": {},
     "output_type": "execute_result"
    }
   ],
   "source": [
    "ic_TRA = test_pred5.groupby(level='datetime').apply(lambda x: x['label'].corr(x['score'], method='spearman'))\n",
    "ic_TRA = ic_TRA.reset_index()\n",
    "ic_TRA.columns = ['date','rankIC']\n",
    "ic_TRA['y'] = ic_TRA.date.apply(lambda x: str(x)[:4])\n",
    "ic_TRA.groupby('y').mean(numeric_only=True)*100"
   ]
  },
  {
   "cell_type": "code",
   "execution_count": null,
   "metadata": {},
   "outputs": [],
   "source": []
  },
  {
   "cell_type": "code",
   "execution_count": 2,
   "metadata": {},
   "outputs": [],
   "source": [
    "datanum = 'all_'  # csi300_, csi800_, all\n",
    "modelname = 'HISTdelpre'"
   ]
  },
  {
   "cell_type": "code",
   "execution_count": 15,
   "metadata": {},
   "outputs": [],
   "source": [
    "# dir_ = datanum + modelname\n",
    "# with open('HIST_newdata/output51/'+dir_+'/rolling2009-01-01/pred.pkl.test0','rb')as f: # \n",
    "#     pred1=pickle.load(f)\n",
    "# pred1.columns = ['score1','label1']\n",
    "# pred1\n",
    "\n",
    "pred1 = pickle.load(open('HIST_gcn/output/allind12_label11/rolling2005-01-01/pred.pkl.test0','rb'))\n",
    "pred1.columns = ['score1','label1']\n",
    "# pred1"
   ]
  },
  {
   "cell_type": "code",
   "execution_count": 16,
   "metadata": {},
   "outputs": [],
   "source": [
    "# dir_ = datanum + modelname + '_label2to1'\n",
    "# with open('HIST_newdata/output51/'+dir_+'/rolling2009-01-01/pred.pkl.test0','rb')as f: # \n",
    "#     pred2=pickle.load(f)\n",
    "# pred2.columns = ['score2','label2']\n",
    "# pred2\n",
    "pred2 = pickle.load(open('HIST_newdata/output/all_HIST_label11to1_20090430/rolling2009-01-01/pred.pkl.test0','rb'))\n",
    "pred2.columns = ['score2','label2']\n",
    "# pred2"
   ]
  },
  {
   "cell_type": "code",
   "execution_count": 70,
   "metadata": {},
   "outputs": [],
   "source": [
    "dir_ = datanum + modelname + '_label6to1'\n",
    "with open('HIST_newdata/output51/'+dir_+'/rolling2009-01-01/pred.pkl.test0','rb')as f: # \n",
    "    pred6=pickle.load(f)\n",
    "pred6.columns = ['score6','label6']\n",
    "# pred6"
   ]
  },
  {
   "cell_type": "code",
   "execution_count": 71,
   "metadata": {},
   "outputs": [],
   "source": [
    "dir_ = datanum + modelname + '_label11to1'\n",
    "with open('HIST_newdata/output51/'+dir_+'/rolling2009-01-01/pred.pkl.test0','rb')as f: # \n",
    "    pred11=pickle.load(f)\n",
    "pred11.columns = ['score11','label11']\n",
    "# pred11"
   ]
  },
  {
   "cell_type": "code",
   "execution_count": 17,
   "metadata": {},
   "outputs": [],
   "source": [
    "pred1 = pred1.reset_index()\n",
    "pred1['datetime'] = pd.to_datetime(pred1['datetime'])"
   ]
  },
  {
   "cell_type": "code",
   "execution_count": 18,
   "metadata": {},
   "outputs": [],
   "source": [
    "pred_all = pd.merge(pred1, pred2.reset_index())\n",
    "# print(1)\n",
    "# pred_all = pd.merge(pred_all, pred6.reset_index())\n",
    "# print(2)\n",
    "# pred_all = pd.merge(pred_all, pred11.reset_index())\n",
    "# print(3)"
   ]
  },
  {
   "cell_type": "code",
   "execution_count": 19,
   "metadata": {},
   "outputs": [],
   "source": [
    "pred_all = pred_all.set_index(['datetime','instrument'])"
   ]
  },
  {
   "cell_type": "code",
   "execution_count": 20,
   "metadata": {},
   "outputs": [
    {
     "data": {
      "text/html": [
       "<div>\n",
       "<style scoped>\n",
       "    .dataframe tbody tr th:only-of-type {\n",
       "        vertical-align: middle;\n",
       "    }\n",
       "\n",
       "    .dataframe tbody tr th {\n",
       "        vertical-align: top;\n",
       "    }\n",
       "\n",
       "    .dataframe thead th {\n",
       "        text-align: right;\n",
       "    }\n",
       "</style>\n",
       "<table border=\"1\" class=\"dataframe\">\n",
       "  <thead>\n",
       "    <tr style=\"text-align: right;\">\n",
       "      <th></th>\n",
       "      <th>rankIC</th>\n",
       "    </tr>\n",
       "    <tr>\n",
       "      <th>y</th>\n",
       "      <th></th>\n",
       "    </tr>\n",
       "  </thead>\n",
       "  <tbody>\n",
       "    <tr>\n",
       "      <th>2019</th>\n",
       "      <td>12.520195</td>\n",
       "    </tr>\n",
       "    <tr>\n",
       "      <th>2020</th>\n",
       "      <td>13.273701</td>\n",
       "    </tr>\n",
       "    <tr>\n",
       "      <th>2021</th>\n",
       "      <td>13.375385</td>\n",
       "    </tr>\n",
       "    <tr>\n",
       "      <th>2022</th>\n",
       "      <td>13.604293</td>\n",
       "    </tr>\n",
       "  </tbody>\n",
       "</table>\n",
       "</div>"
      ],
      "text/plain": [
       "         rankIC\n",
       "y              \n",
       "2019  12.520195\n",
       "2020  13.273701\n",
       "2021  13.375385\n",
       "2022  13.604293"
      ]
     },
     "execution_count": 20,
     "metadata": {},
     "output_type": "execute_result"
    }
   ],
   "source": [
    "ic_TRA = pred_all.groupby(level='datetime').apply(lambda x: x['label1'].corr(x['score1'], method='spearman'))\n",
    "ic_TRA = ic_TRA.reset_index()\n",
    "ic_TRA.columns = ['date','rankIC']\n",
    "ic_TRA['y'] = ic_TRA.date.apply(lambda x: str(x)[:4])\n",
    "ic_TRA.groupby('y').mean(numeric_only=True)*100"
   ]
  },
  {
   "cell_type": "code",
   "execution_count": 21,
   "metadata": {},
   "outputs": [
    {
     "data": {
      "text/html": [
       "<div>\n",
       "<style scoped>\n",
       "    .dataframe tbody tr th:only-of-type {\n",
       "        vertical-align: middle;\n",
       "    }\n",
       "\n",
       "    .dataframe tbody tr th {\n",
       "        vertical-align: top;\n",
       "    }\n",
       "\n",
       "    .dataframe thead th {\n",
       "        text-align: right;\n",
       "    }\n",
       "</style>\n",
       "<table border=\"1\" class=\"dataframe\">\n",
       "  <thead>\n",
       "    <tr style=\"text-align: right;\">\n",
       "      <th></th>\n",
       "      <th>rankIC</th>\n",
       "    </tr>\n",
       "    <tr>\n",
       "      <th>y</th>\n",
       "      <th></th>\n",
       "    </tr>\n",
       "  </thead>\n",
       "  <tbody>\n",
       "    <tr>\n",
       "      <th>2019</th>\n",
       "      <td>13.537174</td>\n",
       "    </tr>\n",
       "    <tr>\n",
       "      <th>2020</th>\n",
       "      <td>11.788561</td>\n",
       "    </tr>\n",
       "    <tr>\n",
       "      <th>2021</th>\n",
       "      <td>11.513951</td>\n",
       "    </tr>\n",
       "    <tr>\n",
       "      <th>2022</th>\n",
       "      <td>12.411381</td>\n",
       "    </tr>\n",
       "  </tbody>\n",
       "</table>\n",
       "</div>"
      ],
      "text/plain": [
       "         rankIC\n",
       "y              \n",
       "2019  13.537174\n",
       "2020  11.788561\n",
       "2021  11.513951\n",
       "2022  12.411381"
      ]
     },
     "execution_count": 21,
     "metadata": {},
     "output_type": "execute_result"
    }
   ],
   "source": [
    "ic_TRA = pred_all.groupby(level='datetime').apply(lambda x: x['label2'].corr(x['score2'], method='spearman'))\n",
    "ic_TRA = ic_TRA.reset_index()\n",
    "ic_TRA.columns = ['date','rankIC']\n",
    "ic_TRA['y'] = ic_TRA.date.apply(lambda x: str(x)[:4])\n",
    "ic_TRA.groupby('y').mean(numeric_only=True)*100"
   ]
  },
  {
   "cell_type": "code",
   "execution_count": null,
   "metadata": {},
   "outputs": [],
   "source": []
  },
  {
   "cell_type": "code",
   "execution_count": 75,
   "metadata": {},
   "outputs": [],
   "source": [
    "# 计算4*4的ic\n",
    "label_list =[ 1,2,6,11]\n",
    "for i in label_list:\n",
    "    for j in label_list:\n",
    "        # eval('rank_ic'+str(i)+str(j)) \n",
    "        numtow = pred_all.groupby(level='datetime').apply(lambda x: x['label'+str(i)].corr(x['score'+str(j)], method='spearman')).mean()*100\n",
    "        with open('ic.txt','a',encoding='utf-8') as f:\n",
    "            f.write(str(numtow)+'\\t')\n",
    "    with open('ic.txt','a',encoding='utf-8') as f:\n",
    "        f.write('\\n')"
   ]
  },
  {
   "cell_type": "code",
   "execution_count": null,
   "metadata": {},
   "outputs": [],
   "source": []
  },
  {
   "cell_type": "code",
   "execution_count": 99,
   "metadata": {},
   "outputs": [],
   "source": [
    "# 计算分年度的ic\n",
    "def year_ic(i):\n",
    "    # i=11 # 1,2,6,11 score\n",
    "    for j in label_list:\n",
    "        rank_ic = pred_all.groupby(level='datetime').apply(lambda x: x['label'+str(i)].corr(x['score'+str(j)], method='spearman'))\n",
    "        rank_ic = rank_ic.reset_index()\n",
    "        rank_ic.columns = ['date','ic'+str(i)+str(j)]\n",
    "        rank_ic['y'] = rank_ic.date.apply(lambda x: str(x)[:4])\n",
    "        if j ==1:\n",
    "            rank_ic_all = rank_ic.groupby('y').mean(numeric_only=True)*100\n",
    "            rank_ic_all = rank_ic_all.reset_index()\n",
    "        else:\n",
    "            rank_ic_temp = rank_ic.groupby('y').mean(numeric_only=True)*100\n",
    "            rank_ic_all = pd.merge(rank_ic_all ,rank_ic_temp.reset_index())\n",
    "    rank_ic_all.drop('y', axis=1).to_csv('rank_ic'+str(i)+'.txt',sep='\\t', index=None, header=None)"
   ]
  },
  {
   "cell_type": "code",
   "execution_count": 83,
   "metadata": {},
   "outputs": [],
   "source": [
    "for i in [1,2,6,11]:\n",
    "    year_ic(i)"
   ]
  },
  {
   "cell_type": "code",
   "execution_count": null,
   "metadata": {},
   "outputs": [],
   "source": []
  },
  {
   "cell_type": "code",
   "execution_count": null,
   "metadata": {},
   "outputs": [],
   "source": [
    "# 向量的自相关是个矩阵，所以我暂时算了均值"
   ]
  },
  {
   "cell_type": "code",
   "execution_count": 84,
   "metadata": {},
   "outputs": [],
   "source": [
    "import statsmodels.tsa.api as smt\n",
    "# acf = smt.stattools.acf(pred_all['score1'])\n",
    "# print(acf)"
   ]
  },
  {
   "cell_type": "code",
   "execution_count": 85,
   "metadata": {},
   "outputs": [],
   "source": [
    "pred2 = pred_all.reset_index().set_index(['instrument','datetime'])\n",
    "# acf = smt.stattools.acf(pred2.loc['SH600004']['score1'])\n",
    "# print(acf)"
   ]
  },
  {
   "cell_type": "code",
   "execution_count": 86,
   "metadata": {},
   "outputs": [],
   "source": [
    "pred_re = pred_all.reset_index()\n",
    "pred_re['year'] = pred_re.datetime.apply(lambda x: str(x)[:4])\n",
    "# pred_re[pred_re['year']==str(2019)]"
   ]
  },
  {
   "cell_type": "code",
   "execution_count": 96,
   "metadata": {},
   "outputs": [],
   "source": [
    "# scorenum = '11'   # # 1,2,6,11 score"
   ]
  },
  {
   "cell_type": "code",
   "execution_count": 97,
   "metadata": {},
   "outputs": [],
   "source": [
    "def acf_i(scorenum):\n",
    "    ylist = [2019,2020,2021,2022]\n",
    "    for y in ylist:\n",
    "        pred_cal = pred_re[pred_re['year']==str(y)]\n",
    "        acf1 = 0\n",
    "        acf2 = 0\n",
    "        acf5 = 0\n",
    "        acf10 = 0\n",
    "        stock300 = pred_cal['instrument'].drop_duplicates()\n",
    "        pred_cal = pred_cal.set_index(['instrument','datetime'])\n",
    "        lens = len(stock300)\n",
    "        for a in stock300:\n",
    "            cal_ser = pred_cal.loc[a]\n",
    "            if len(cal_ser)>10:\n",
    "                acf = smt.stattools.acf(cal_ser['score'+str(scorenum)])\n",
    "                acf1 += acf[1]\n",
    "                acf2 += acf[2]\n",
    "                acf5 += acf[5]\n",
    "                acf10 += acf[10]\n",
    "            else:\n",
    "                lens = lens-1\n",
    "        with open('acf'+str(scorenum)+'.txt','a',encoding='utf-8') as f:\n",
    "            f.write(str(acf1/lens)+'\\t')\n",
    "            f.write(str(acf5/lens)+'\\t')\n",
    "            f.write(str(acf10/lens)+'\\t')\n",
    "            f.write('\\n')\n",
    "        # print(acf1/lens,acf5/lens,acf10/lens)\n",
    "    acf1 = 0\n",
    "    acf2 = 0\n",
    "    acf5 = 0\n",
    "    acf10 = 0\n",
    "    stock300 = pred2.reset_index()['instrument'].drop_duplicates()\n",
    "    lens = len(stock300)\n",
    "    for a in stock300:\n",
    "        cal_ser = pred2.loc[a]\n",
    "        if len(cal_ser)>10:\n",
    "            acf = smt.stattools.acf(cal_ser['score'+str(scorenum)])\n",
    "            acf1 += acf[1]\n",
    "            acf2 += acf[2]\n",
    "            acf5 += acf[5]\n",
    "            acf10 += acf[10]\n",
    "        else:\n",
    "            lens = lens-1\n",
    "    with open('acf'+str(scorenum)+'.txt','a',encoding='utf-8') as f:\n",
    "        f.write(str(acf1/lens)+'\\t')\n",
    "        f.write(str(acf5/lens)+'\\t')\n",
    "        f.write(str(acf10/lens)+'\\t')\n",
    "        f.write('\\n')\n",
    "# print(acf1/lens,acf5/lens,acf10/lens)\n"
   ]
  },
  {
   "cell_type": "code",
   "execution_count": 98,
   "metadata": {},
   "outputs": [],
   "source": [
    "for i in [1,2,6,11]:\n",
    "    acf_i(i)"
   ]
  },
  {
   "cell_type": "code",
   "execution_count": null,
   "metadata": {},
   "outputs": [],
   "source": []
  },
  {
   "cell_type": "code",
   "execution_count": 4,
   "metadata": {},
   "outputs": [],
   "source": [
    "import pickle"
   ]
  },
  {
   "cell_type": "code",
   "execution_count": 5,
   "metadata": {},
   "outputs": [
    {
     "data": {
      "text/html": [
       "<div>\n",
       "<style scoped>\n",
       "    .dataframe tbody tr th:only-of-type {\n",
       "        vertical-align: middle;\n",
       "    }\n",
       "\n",
       "    .dataframe tbody tr th {\n",
       "        vertical-align: top;\n",
       "    }\n",
       "\n",
       "    .dataframe thead th {\n",
       "        text-align: right;\n",
       "    }\n",
       "</style>\n",
       "<table border=\"1\" class=\"dataframe\">\n",
       "  <thead>\n",
       "    <tr style=\"text-align: right;\">\n",
       "      <th></th>\n",
       "      <th></th>\n",
       "      <th>score</th>\n",
       "      <th>label</th>\n",
       "    </tr>\n",
       "    <tr>\n",
       "      <th>datetime</th>\n",
       "      <th>instrument</th>\n",
       "      <th></th>\n",
       "      <th></th>\n",
       "    </tr>\n",
       "  </thead>\n",
       "  <tbody>\n",
       "    <tr>\n",
       "      <th rowspan=\"5\" valign=\"top\">2019-01-02</th>\n",
       "      <th>SH600000</th>\n",
       "      <td>-0.044163</td>\n",
       "      <td>-0.202549</td>\n",
       "    </tr>\n",
       "    <tr>\n",
       "      <th>SH600004</th>\n",
       "      <td>-0.066936</td>\n",
       "      <td>-1.195594</td>\n",
       "    </tr>\n",
       "    <tr>\n",
       "      <th>SH600006</th>\n",
       "      <td>0.080465</td>\n",
       "      <td>-0.120721</td>\n",
       "    </tr>\n",
       "    <tr>\n",
       "      <th>SH600007</th>\n",
       "      <td>-0.074251</td>\n",
       "      <td>-0.320745</td>\n",
       "    </tr>\n",
       "    <tr>\n",
       "      <th>SH600008</th>\n",
       "      <td>-0.025778</td>\n",
       "      <td>-0.354082</td>\n",
       "    </tr>\n",
       "    <tr>\n",
       "      <th>...</th>\n",
       "      <th>...</th>\n",
       "      <td>...</td>\n",
       "      <td>...</td>\n",
       "    </tr>\n",
       "    <tr>\n",
       "      <th rowspan=\"5\" valign=\"top\">2022-12-30</th>\n",
       "      <th>SZ301388</th>\n",
       "      <td>-0.169745</td>\n",
       "      <td>-0.076298</td>\n",
       "    </tr>\n",
       "    <tr>\n",
       "      <th>SZ301389</th>\n",
       "      <td>-0.073216</td>\n",
       "      <td>0.225442</td>\n",
       "    </tr>\n",
       "    <tr>\n",
       "      <th>SZ301391</th>\n",
       "      <td>-0.050165</td>\n",
       "      <td>1.678214</td>\n",
       "    </tr>\n",
       "    <tr>\n",
       "      <th>SZ301396</th>\n",
       "      <td>0.005414</td>\n",
       "      <td>-0.666659</td>\n",
       "    </tr>\n",
       "    <tr>\n",
       "      <th>SZ301398</th>\n",
       "      <td>-0.237900</td>\n",
       "      <td>0.293800</td>\n",
       "    </tr>\n",
       "  </tbody>\n",
       "</table>\n",
       "<p>3967046 rows × 2 columns</p>\n",
       "</div>"
      ],
      "text/plain": [
       "                          score     label\n",
       "datetime   instrument                    \n",
       "2019-01-02 SH600000   -0.044163 -0.202549\n",
       "           SH600004   -0.066936 -1.195594\n",
       "           SH600006    0.080465 -0.120721\n",
       "           SH600007   -0.074251 -0.320745\n",
       "           SH600008   -0.025778 -0.354082\n",
       "...                         ...       ...\n",
       "2022-12-30 SZ301388   -0.169745 -0.076298\n",
       "           SZ301389   -0.073216  0.225442\n",
       "           SZ301391   -0.050165  1.678214\n",
       "           SZ301396    0.005414 -0.666659\n",
       "           SZ301398   -0.237900  0.293800\n",
       "\n",
       "[3967046 rows x 2 columns]"
      ]
     },
     "execution_count": 5,
     "metadata": {},
     "output_type": "execute_result"
    }
   ],
   "source": [
    "\n",
    "with open('HIST_gcn/output/all_ind2_label11to1_GCN_re/rolling2009-01-01/pred.pkl.test0','rb')as f: # \n",
    "    adja1=pickle.load(f)\n",
    "adja1"
   ]
  },
  {
   "cell_type": "code",
   "execution_count": 5,
   "metadata": {},
   "outputs": [],
   "source": [
    "adja1.to_csv('all_GCN_industry2_label11.csv')"
   ]
  },
  {
   "cell_type": "code",
   "execution_count": 6,
   "metadata": {},
   "outputs": [
    {
     "data": {
      "text/plain": [
       "array([[2., 0., 0.],\n",
       "       [0., 2., 0.],\n",
       "       [0., 0., 2.]])"
      ]
     },
     "execution_count": 6,
     "metadata": {},
     "output_type": "execute_result"
    }
   ],
   "source": [
    "np.identity(3)+np.identity(3) "
   ]
  },
  {
   "cell_type": "code",
   "execution_count": 2,
   "metadata": {},
   "outputs": [
    {
     "data": {
      "text/html": [
       "<div>\n",
       "<style scoped>\n",
       "    .dataframe tbody tr th:only-of-type {\n",
       "        vertical-align: middle;\n",
       "    }\n",
       "\n",
       "    .dataframe tbody tr th {\n",
       "        vertical-align: top;\n",
       "    }\n",
       "\n",
       "    .dataframe thead th {\n",
       "        text-align: right;\n",
       "    }\n",
       "</style>\n",
       "<table border=\"1\" class=\"dataframe\">\n",
       "  <thead>\n",
       "    <tr style=\"text-align: right;\">\n",
       "      <th></th>\n",
       "      <th></th>\n",
       "      <th>score</th>\n",
       "      <th>label</th>\n",
       "    </tr>\n",
       "    <tr>\n",
       "      <th>datetime</th>\n",
       "      <th>instrument</th>\n",
       "      <th></th>\n",
       "      <th></th>\n",
       "    </tr>\n",
       "  </thead>\n",
       "  <tbody>\n",
       "    <tr>\n",
       "      <th rowspan=\"5\" valign=\"top\">2023-01-03</th>\n",
       "      <th>SH600000</th>\n",
       "      <td>-3.749544</td>\n",
       "      <td>-1.118733</td>\n",
       "    </tr>\n",
       "    <tr>\n",
       "      <th>SH600009</th>\n",
       "      <td>-3.749825</td>\n",
       "      <td>1.360933</td>\n",
       "    </tr>\n",
       "    <tr>\n",
       "      <th>SH600010</th>\n",
       "      <td>-3.749825</td>\n",
       "      <td>-1.245600</td>\n",
       "    </tr>\n",
       "    <tr>\n",
       "      <th>SH600011</th>\n",
       "      <td>-3.749544</td>\n",
       "      <td>-1.718467</td>\n",
       "    </tr>\n",
       "    <tr>\n",
       "      <th>SH600015</th>\n",
       "      <td>-3.749544</td>\n",
       "      <td>-1.337867</td>\n",
       "    </tr>\n",
       "    <tr>\n",
       "      <th>...</th>\n",
       "      <th>...</th>\n",
       "      <td>...</td>\n",
       "      <td>...</td>\n",
       "    </tr>\n",
       "    <tr>\n",
       "      <th rowspan=\"5\" valign=\"top\">2023-05-31</th>\n",
       "      <th>SZ300896</th>\n",
       "      <td>-3.729171</td>\n",
       "      <td>-0.248796</td>\n",
       "    </tr>\n",
       "    <tr>\n",
       "      <th>SZ300919</th>\n",
       "      <td>-3.729171</td>\n",
       "      <td>-0.572809</td>\n",
       "    </tr>\n",
       "    <tr>\n",
       "      <th>SZ300957</th>\n",
       "      <td>-3.729171</td>\n",
       "      <td>0.595953</td>\n",
       "    </tr>\n",
       "    <tr>\n",
       "      <th>SZ300979</th>\n",
       "      <td>-3.729171</td>\n",
       "      <td>1.695284</td>\n",
       "    </tr>\n",
       "    <tr>\n",
       "      <th>SZ300999</th>\n",
       "      <td>-3.729171</td>\n",
       "      <td>-0.063645</td>\n",
       "    </tr>\n",
       "  </tbody>\n",
       "</table>\n",
       "<p>29399 rows × 2 columns</p>\n",
       "</div>"
      ],
      "text/plain": [
       "                          score     label\n",
       "datetime   instrument                    \n",
       "2023-01-03 SH600000   -3.749544 -1.118733\n",
       "           SH600009   -3.749825  1.360933\n",
       "           SH600010   -3.749825 -1.245600\n",
       "           SH600011   -3.749544 -1.718467\n",
       "           SH600015   -3.749544 -1.337867\n",
       "...                         ...       ...\n",
       "2023-05-31 SZ300896   -3.729171 -0.248796\n",
       "           SZ300919   -3.729171 -0.572809\n",
       "           SZ300957   -3.729171  0.595953\n",
       "           SZ300979   -3.729171  1.695284\n",
       "           SZ300999   -3.729171 -0.063645\n",
       "\n",
       "[29399 rows x 2 columns]"
      ]
     },
     "execution_count": 2,
     "metadata": {},
     "output_type": "execute_result"
    }
   ],
   "source": [
    "dir_ = 'all_ind1_label11to1_HGCN'\n",
    "with open('HIST_gcn/output/'+dir_+'/newdata_pred.pkl','rb')as f: # \n",
    "    pred1=pickle.load(f)\n",
    "pred1"
   ]
  },
  {
   "cell_type": "code",
   "execution_count": 2,
   "metadata": {},
   "outputs": [
    {
     "name": "stderr",
     "output_type": "stream",
     "text": [
      "/home/zhangxinyi/anaconda3/envs/mypytorch38/lib/python3.8/site-packages/tqdm/auto.py:21: TqdmWarning: IProgress not found. Please update jupyter and ipywidgets. See https://ipywidgets.readthedocs.io/en/stable/user_install.html\n",
      "  from .autonotebook import tqdm as notebook_tqdm\n"
     ]
    }
   ],
   "source": [
    "import torch\n",
    "def ic_metric(pred, label, weight=None):\n",
    "    EPS = 1e-9\n",
    "    # pred\n",
    "    if pred.dim() == 1:\n",
    "        pred = pred.view(-1,1)\n",
    "\n",
    "    # label\n",
    "    if label.dim() == 1:\n",
    "        label = label.view(-1,1)\n",
    "\n",
    "    # 权重, 默认等权\n",
    "    if weight is None:\n",
    "        weight = torch.ones_like(label)\n",
    "\n",
    "    # 加权IC\n",
    "    weight = weight/weight.sum()\n",
    "    label -= label.t().mm(weight)\n",
    "    label /= (label.mul(label).t().mm(weight)+EPS).sqrt()\n",
    "    pred = pred - pred.t().mm(weight)\n",
    "    pred = pred / (pred.mul(pred).t().mm(weight)+EPS).sqrt()\n",
    "    ic = pred.mul(label).t().mm(weight).squeeze()\n",
    "\n",
    "    return ic\n",
    "\n",
    "def ic_loss(pred, label, weight=None):\n",
    "    return - ic_metric(pred, label, weight)"
   ]
  },
  {
   "cell_type": "code",
   "execution_count": 4,
   "metadata": {},
   "outputs": [
    {
     "data": {
      "text/plain": [
       "tensor(-0.9993)"
      ]
     },
     "execution_count": 4,
     "metadata": {},
     "output_type": "execute_result"
    }
   ],
   "source": [
    "pred = torch.randn(3,1)\n",
    "label = torch.randn(3,1)\n",
    "ic_metric(pred, label)"
   ]
  },
  {
   "cell_type": "code",
   "execution_count": null,
   "metadata": {},
   "outputs": [],
   "source": []
  }
 ],
 "metadata": {
  "kernelspec": {
   "display_name": "mypytorch38",
   "language": "python",
   "name": "python3"
  },
  "language_info": {
   "codemirror_mode": {
    "name": "ipython",
    "version": 3
   },
   "file_extension": ".py",
   "mimetype": "text/x-python",
   "name": "python",
   "nbconvert_exporter": "python",
   "pygments_lexer": "ipython3",
   "version": "3.8.13"
  },
  "orig_nbformat": 4,
  "vscode": {
   "interpreter": {
    "hash": "445f5e714bcfac8a56debd17e857de2e8a9139b66162c6682db89a165b6e5033"
   }
  }
 },
 "nbformat": 4,
 "nbformat_minor": 2
}
