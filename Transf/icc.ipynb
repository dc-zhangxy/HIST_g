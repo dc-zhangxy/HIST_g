{
 "cells": [
  {
   "cell_type": "code",
   "execution_count": 1,
   "metadata": {},
   "outputs": [],
   "source": [
    "import pickle\n",
    "import pandas as pd\n",
    "import numpy as np\n",
    "from datetime import datetime"
   ]
  },
  {
   "cell_type": "code",
   "execution_count": 23,
   "metadata": {},
   "outputs": [],
   "source": [
    "test_pred5=pickle.load(open('../HIST_gcn/output/all_label6to1_HISTdelpre/rolling2005-01-01/pred.pkl.test0','rb'))\n"
   ]
  },
  {
   "cell_type": "code",
   "execution_count": 16,
   "metadata": {},
   "outputs": [],
   "source": [
    "test_pred5=pickle.load(open('output/all360_GRU_2day_corr100_label20/rolling2005-01-01/pred.pkl.test0','rb'))\n",
    "\n",
    "# test_pred5=pickle.load(open('output/all360_transf_label/rolling2005-01-01/pred.pkl.test0','rb'))\n",
    "# test_pred5\n",
    "# test_pred5=pickle.load(open('output/all360_GRU_2day/rolling2005-01-01/pred.pkl.test0','rb'))"
   ]
  },
  {
   "cell_type": "code",
   "execution_count": 24,
   "metadata": {},
   "outputs": [
    {
     "data": {
      "text/plain": [
       "11.02017258041488"
      ]
     },
     "execution_count": 24,
     "metadata": {},
     "output_type": "execute_result"
    }
   ],
   "source": [
    "test_pred5.groupby(level='datetime').apply(lambda x: x['label'].corr(x['score'], method='spearman')).mean()*100\n",
    "# 'rankIC:',"
   ]
  },
  {
   "cell_type": "code",
   "execution_count": 25,
   "metadata": {},
   "outputs": [
    {
     "data": {
      "text/html": [
       "<div>\n",
       "<style scoped>\n",
       "    .dataframe tbody tr th:only-of-type {\n",
       "        vertical-align: middle;\n",
       "    }\n",
       "\n",
       "    .dataframe tbody tr th {\n",
       "        vertical-align: top;\n",
       "    }\n",
       "\n",
       "    .dataframe thead th {\n",
       "        text-align: right;\n",
       "    }\n",
       "</style>\n",
       "<table border=\"1\" class=\"dataframe\">\n",
       "  <thead>\n",
       "    <tr style=\"text-align: right;\">\n",
       "      <th></th>\n",
       "      <th>score</th>\n",
       "      <th>label</th>\n",
       "    </tr>\n",
       "  </thead>\n",
       "  <tbody>\n",
       "    <tr>\n",
       "      <th>score</th>\n",
       "      <td>100.000000</td>\n",
       "      <td>11.548517</td>\n",
       "    </tr>\n",
       "    <tr>\n",
       "      <th>label</th>\n",
       "      <td>11.548517</td>\n",
       "      <td>100.000000</td>\n",
       "    </tr>\n",
       "  </tbody>\n",
       "</table>\n",
       "</div>"
      ],
      "text/plain": [
       "            score       label\n",
       "score  100.000000   11.548517\n",
       "label   11.548517  100.000000"
      ]
     },
     "execution_count": 25,
     "metadata": {},
     "output_type": "execute_result"
    }
   ],
   "source": [
    "test_pred5.corr()*100"
   ]
  },
  {
   "cell_type": "code",
   "execution_count": 26,
   "metadata": {},
   "outputs": [
    {
     "data": {
      "text/html": [
       "<div>\n",
       "<style scoped>\n",
       "    .dataframe tbody tr th:only-of-type {\n",
       "        vertical-align: middle;\n",
       "    }\n",
       "\n",
       "    .dataframe tbody tr th {\n",
       "        vertical-align: top;\n",
       "    }\n",
       "\n",
       "    .dataframe thead th {\n",
       "        text-align: right;\n",
       "    }\n",
       "</style>\n",
       "<table border=\"1\" class=\"dataframe\">\n",
       "  <thead>\n",
       "    <tr style=\"text-align: right;\">\n",
       "      <th></th>\n",
       "      <th>rankIC</th>\n",
       "    </tr>\n",
       "    <tr>\n",
       "      <th>y</th>\n",
       "      <th></th>\n",
       "    </tr>\n",
       "  </thead>\n",
       "  <tbody>\n",
       "    <tr>\n",
       "      <th>2019</th>\n",
       "      <td>12.921035</td>\n",
       "    </tr>\n",
       "    <tr>\n",
       "      <th>2020</th>\n",
       "      <td>12.859987</td>\n",
       "    </tr>\n",
       "    <tr>\n",
       "      <th>2021</th>\n",
       "      <td>10.596656</td>\n",
       "    </tr>\n",
       "    <tr>\n",
       "      <th>2022</th>\n",
       "      <td>10.994291</td>\n",
       "    </tr>\n",
       "    <tr>\n",
       "      <th>2023</th>\n",
       "      <td>7.534488</td>\n",
       "    </tr>\n",
       "  </tbody>\n",
       "</table>\n",
       "</div>"
      ],
      "text/plain": [
       "         rankIC\n",
       "y              \n",
       "2019  12.921035\n",
       "2020  12.859987\n",
       "2021  10.596656\n",
       "2022  10.994291\n",
       "2023   7.534488"
      ]
     },
     "execution_count": 26,
     "metadata": {},
     "output_type": "execute_result"
    }
   ],
   "source": [
    "ic_TRA = test_pred5.groupby(level='datetime').apply(lambda x: x['label'].corr(x['score'], method='spearman'))\n",
    "ic_TRA = ic_TRA.reset_index()\n",
    "ic_TRA.columns = ['date','rankIC']\n",
    "ic_TRA['y'] = ic_TRA.date.apply(lambda x: str(x)[:4])\n",
    "ic_TRA.groupby('y').mean(numeric_only=True)*100"
   ]
  },
  {
   "cell_type": "code",
   "execution_count": null,
   "metadata": {},
   "outputs": [],
   "source": []
  },
  {
   "cell_type": "code",
   "execution_count": 20,
   "metadata": {},
   "outputs": [],
   "source": [
    "import statsmodels.tsa.api as smt"
   ]
  },
  {
   "cell_type": "code",
   "execution_count": 27,
   "metadata": {},
   "outputs": [],
   "source": [
    "acf1 = []\n",
    "acf2 = []\n",
    "acf5 = []\n",
    "acf10 = []\n",
    "stock300 = test_pred5.reset_index()['instrument'].drop_duplicates()\n",
    "lens = len(stock300)\n",
    "pred_cal = test_pred5.reset_index().set_index(['instrument','datetime'])\n"
   ]
  },
  {
   "cell_type": "code",
   "execution_count": 28,
   "metadata": {},
   "outputs": [
    {
     "name": "stdout",
     "output_type": "stream",
     "text": [
      "0.7697501471522287 0.623057797525572 0.3525742035899206 0.22033388591506772\n"
     ]
    }
   ],
   "source": [
    "for a in stock300:\n",
    "    cal_ser = pred_cal.loc[a]\n",
    "    if len(cal_ser)>10:\n",
    "        acf = smt.stattools.acf(cal_ser['score'])\n",
    "        acf1.append(acf[1])\n",
    "        acf2.append(acf[2])\n",
    "        acf5.append(acf[5])\n",
    "        acf10.append(acf[10])\n",
    "    # else:\n",
    "    #     lens = lens-1\n",
    "print(np.mean(acf1),np.mean(acf2),np.mean(acf5),np.mean(acf10))"
   ]
  },
  {
   "cell_type": "code",
   "execution_count": null,
   "metadata": {},
   "outputs": [],
   "source": []
  },
  {
   "cell_type": "code",
   "execution_count": null,
   "metadata": {},
   "outputs": [],
   "source": []
  },
  {
   "cell_type": "code",
   "execution_count": 31,
   "metadata": {},
   "outputs": [
    {
     "data": {
      "text/plain": [
       "array([1.        , 0.85755793, 0.77118553, 0.69072796, 0.62925854,\n",
       "       0.5619205 , 0.5014307 , 0.45522174, 0.39511267, 0.36148442,\n",
       "       0.32851376, 0.30381403, 0.27301598, 0.26006414, 0.24201009,\n",
       "       0.2203666 , 0.2117644 , 0.19741088, 0.1743935 , 0.15997919,\n",
       "       0.14888021, 0.13702268, 0.12748847, 0.11533602, 0.10765782,\n",
       "       0.09054051, 0.10528491, 0.09175688, 0.08820531, 0.07604617,\n",
       "       0.07074534])"
      ]
     },
     "execution_count": 31,
     "metadata": {},
     "output_type": "execute_result"
    }
   ],
   "source": [
    "smt.stattools.acf(pred_cal.loc[stock300[1]]['score'])"
   ]
  },
  {
   "cell_type": "code",
   "execution_count": 32,
   "metadata": {},
   "outputs": [],
   "source": [
    "for a in stock300:\n",
    "    cal_ser = pred_cal.loc[a]\n",
    "    if len(cal_ser)>10:\n",
    "        acf = smt.stattools.acf(cal_ser['score'])\n",
    "        acf1.append(acf[1])\n",
    "        acf2.append(acf[2])\n",
    "        acf5.append(acf[5])\n",
    "        acf10.append(acf[10])\n",
    "    # else:\n",
    "    #     lens = lens-1"
   ]
  },
  {
   "cell_type": "code",
   "execution_count": 33,
   "metadata": {},
   "outputs": [
    {
     "name": "stdout",
     "output_type": "stream",
     "text": [
      "0.7888222243125315 0.6531144731747004 0.39712600374875634 0.2468134045906666\n"
     ]
    }
   ],
   "source": [
    "print(np.mean(acf1), np.mean(acf2), np.mean(acf5), np.mean(acf10))"
   ]
  },
  {
   "cell_type": "code",
   "execution_count": 22,
   "metadata": {},
   "outputs": [
    {
     "data": {
      "text/html": [
       "<div>\n",
       "<style scoped>\n",
       "    .dataframe tbody tr th:only-of-type {\n",
       "        vertical-align: middle;\n",
       "    }\n",
       "\n",
       "    .dataframe tbody tr th {\n",
       "        vertical-align: top;\n",
       "    }\n",
       "\n",
       "    .dataframe thead th {\n",
       "        text-align: right;\n",
       "    }\n",
       "</style>\n",
       "<table border=\"1\" class=\"dataframe\">\n",
       "  <thead>\n",
       "    <tr style=\"text-align: right;\">\n",
       "      <th></th>\n",
       "      <th>rankIC</th>\n",
       "    </tr>\n",
       "    <tr>\n",
       "      <th>y</th>\n",
       "      <th></th>\n",
       "    </tr>\n",
       "  </thead>\n",
       "  <tbody>\n",
       "    <tr>\n",
       "      <th>2019</th>\n",
       "      <td>12.228948</td>\n",
       "    </tr>\n",
       "    <tr>\n",
       "      <th>2020</th>\n",
       "      <td>11.895486</td>\n",
       "    </tr>\n",
       "    <tr>\n",
       "      <th>2021</th>\n",
       "      <td>10.479959</td>\n",
       "    </tr>\n",
       "    <tr>\n",
       "      <th>2022</th>\n",
       "      <td>10.763840</td>\n",
       "    </tr>\n",
       "    <tr>\n",
       "      <th>2023</th>\n",
       "      <td>7.453651</td>\n",
       "    </tr>\n",
       "  </tbody>\n",
       "</table>\n",
       "</div>"
      ],
      "text/plain": [
       "         rankIC\n",
       "y              \n",
       "2019  12.228948\n",
       "2020  11.895486\n",
       "2021  10.479959\n",
       "2022  10.763840\n",
       "2023   7.453651"
      ]
     },
     "execution_count": 22,
     "metadata": {},
     "output_type": "execute_result"
    }
   ],
   "source": [
    "ic_TRA = test_pred5.groupby(level='datetime').apply(lambda x: x['label'].corr(x['score'], method='spearman'))\n",
    "ic_TRA = ic_TRA.reset_index()\n",
    "ic_TRA.columns = ['date','rankIC']\n",
    "ic_TRA['y'] = ic_TRA.date.apply(lambda x: str(x)[:4])\n",
    "ic_TRA.groupby('y').mean(numeric_only=True)*100"
   ]
  },
  {
   "cell_type": "code",
   "execution_count": null,
   "metadata": {},
   "outputs": [],
   "source": []
  },
  {
   "cell_type": "code",
   "execution_count": 41,
   "metadata": {},
   "outputs": [
    {
     "name": "stdout",
     "output_type": "stream",
     "text": [
      "0.8630974051625948 0.7850397729342556 0.6275830006394147 0.45332040643639804\n"
     ]
    }
   ],
   "source": [
    "for a in stock300:\n",
    "    cal_ser = pred_cal.loc[a]\n",
    "    if len(cal_ser)>10:\n",
    "        acf = smt.stattools.acf(cal_ser['score4'])\n",
    "        acf1.append(acf[1])\n",
    "        acf2.append(acf[2])\n",
    "        acf5.append(acf[5])\n",
    "        acf10.append(acf[10])\n",
    "    # else:\n",
    "    #     lens = lens-1\n",
    "print(np.mean(acf1),np.mean(acf2),np.mean(acf5),np.mean(acf10))"
   ]
  },
  {
   "cell_type": "code",
   "execution_count": 42,
   "metadata": {},
   "outputs": [
    {
     "name": "stdout",
     "output_type": "stream",
     "text": [
      "0.8616174485898641 0.7829426476124824 0.6239970398906565 0.4490630460609274\n"
     ]
    }
   ],
   "source": [
    "for a in stock300:\n",
    "    cal_ser = pred_cal.loc[a]\n",
    "    if len(cal_ser)>10:\n",
    "        acf = smt.stattools.acf(cal_ser['score2'])\n",
    "        acf1.append(acf[1])\n",
    "        acf2.append(acf[2])\n",
    "        acf5.append(acf[5])\n",
    "        acf10.append(acf[10])\n",
    "    # else:\n",
    "    #     lens = lens-1\n",
    "print(np.mean(acf1),np.mean(acf2),np.mean(acf5),np.mean(acf10))"
   ]
  },
  {
   "cell_type": "code",
   "execution_count": null,
   "metadata": {},
   "outputs": [],
   "source": []
  },
  {
   "cell_type": "code",
   "execution_count": 31,
   "metadata": {},
   "outputs": [
    {
     "name": "stdout",
     "output_type": "stream",
     "text": [
      "0.8360358014392397 0.7442372614720368 0.5757074574418902 0.4077402573543237\n"
     ]
    }
   ],
   "source": [
    "for a in stock300:\n",
    "    cal_ser = pred_cal.loc[a]\n",
    "    if len(cal_ser)>10:\n",
    "        acf = smt.stattools.acf(cal_ser['score2'])\n",
    "        acf1.append(acf[1])\n",
    "        acf2.append(acf[2])\n",
    "        acf5.append(acf[5])\n",
    "        acf10.append(acf[10])\n",
    "    # else:\n",
    "    #     lens = lens-1\n",
    "print(np.mean(acf1),np.mean(acf2),np.mean(acf5),np.mean(acf10))"
   ]
  },
  {
   "cell_type": "code",
   "execution_count": 32,
   "metadata": {},
   "outputs": [
    {
     "name": "stdout",
     "output_type": "stream",
     "text": [
      "0.8365392940791905 0.7447787282508583 0.5762804221777943 0.4080507879975367\n"
     ]
    }
   ],
   "source": [
    "for a in stock300:\n",
    "    cal_ser = pred_cal.loc[a]\n",
    "    if len(cal_ser)>10:\n",
    "        acf = smt.stattools.acf(cal_ser['score3'])\n",
    "        acf1.append(acf[1])\n",
    "        acf2.append(acf[2])\n",
    "        acf5.append(acf[5])\n",
    "        acf10.append(acf[10])\n",
    "    # else:\n",
    "    #     lens = lens-1\n",
    "print(np.mean(acf1),np.mean(acf2),np.mean(acf5),np.mean(acf10))"
   ]
  },
  {
   "cell_type": "code",
   "execution_count": null,
   "metadata": {},
   "outputs": [],
   "source": []
  }
 ],
 "metadata": {
  "kernelspec": {
   "display_name": "base",
   "language": "python",
   "name": "python3"
  },
  "language_info": {
   "codemirror_mode": {
    "name": "ipython",
    "version": 3
   },
   "file_extension": ".py",
   "mimetype": "text/x-python",
   "name": "python",
   "nbconvert_exporter": "python",
   "pygments_lexer": "ipython3",
   "version": "3.11.5"
  }
 },
 "nbformat": 4,
 "nbformat_minor": 2
}
