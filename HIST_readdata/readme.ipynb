{
 "cells": [
  {
   "cell_type": "code",
   "execution_count": 1,
   "metadata": {},
   "outputs": [],
   "source": [
    "import torch\n",
    "# import torch.nn as nn\n",
    "import torch.optim as optim\n",
    "import os\n",
    "import copy\n",
    "import json\n",
    "import argparse\n",
    "import datetime\n",
    "import collections\n",
    "import numpy as np\n",
    "import pandas as pd\n",
    "from tqdm import tqdm\n",
    "import pickle"
   ]
  },
  {
   "cell_type": "markdown",
   "metadata": {},
   "source": [
    "## input"
   ]
  },
  {
   "cell_type": "markdown",
   "metadata": {},
   "source": [
    "特征：回看过去30天的6个量价特征，未做 RobustZScoreNorm 处理"
   ]
  },
  {
   "cell_type": "code",
   "execution_count": 2,
   "metadata": {},
   "outputs": [
    {
     "data": {
      "text/html": [
       "<div>\n",
       "<style scoped>\n",
       "    .dataframe tbody tr th:only-of-type {\n",
       "        vertical-align: middle;\n",
       "    }\n",
       "\n",
       "    .dataframe tbody tr th {\n",
       "        vertical-align: top;\n",
       "    }\n",
       "\n",
       "    .dataframe thead th {\n",
       "        text-align: right;\n",
       "    }\n",
       "</style>\n",
       "<table border=\"1\" class=\"dataframe\">\n",
       "  <thead>\n",
       "    <tr style=\"text-align: right;\">\n",
       "      <th></th>\n",
       "      <th>end_date</th>\n",
       "      <th>stock_code</th>\n",
       "      <th>close_day_lag0</th>\n",
       "      <th>close_day_lag1</th>\n",
       "      <th>close_day_lag2</th>\n",
       "      <th>close_day_lag3</th>\n",
       "      <th>close_day_lag4</th>\n",
       "      <th>close_day_lag5</th>\n",
       "      <th>close_day_lag6</th>\n",
       "      <th>close_day_lag7</th>\n",
       "      <th>...</th>\n",
       "      <th>close_day_lag20</th>\n",
       "      <th>close_day_lag21</th>\n",
       "      <th>close_day_lag22</th>\n",
       "      <th>close_day_lag23</th>\n",
       "      <th>close_day_lag24</th>\n",
       "      <th>close_day_lag25</th>\n",
       "      <th>close_day_lag26</th>\n",
       "      <th>close_day_lag27</th>\n",
       "      <th>close_day_lag28</th>\n",
       "      <th>close_day_lag29</th>\n",
       "    </tr>\n",
       "  </thead>\n",
       "  <tbody>\n",
       "    <tr>\n",
       "      <th>0</th>\n",
       "      <td>2007-01-04</td>\n",
       "      <td>000001.SZ</td>\n",
       "      <td>0.0</td>\n",
       "      <td>1.152984</td>\n",
       "      <td>-0.189501</td>\n",
       "      <td>-0.707711</td>\n",
       "      <td>-1.270391</td>\n",
       "      <td>-0.974698</td>\n",
       "      <td>-1.287721</td>\n",
       "      <td>-1.019862</td>\n",
       "      <td>...</td>\n",
       "      <td>-0.542033</td>\n",
       "      <td>-0.956269</td>\n",
       "      <td>-0.796646</td>\n",
       "      <td>-0.933699</td>\n",
       "      <td>-0.940420</td>\n",
       "      <td>-0.778582</td>\n",
       "      <td>-0.708488</td>\n",
       "      <td>-0.709334</td>\n",
       "      <td>-0.576758</td>\n",
       "      <td>-1.092390</td>\n",
       "    </tr>\n",
       "    <tr>\n",
       "      <th>1</th>\n",
       "      <td>2007-01-04</td>\n",
       "      <td>000002.SZ</td>\n",
       "      <td>0.0</td>\n",
       "      <td>-0.116772</td>\n",
       "      <td>-0.825266</td>\n",
       "      <td>-0.430052</td>\n",
       "      <td>-0.539504</td>\n",
       "      <td>-0.561118</td>\n",
       "      <td>-1.013698</td>\n",
       "      <td>-0.928439</td>\n",
       "      <td>...</td>\n",
       "      <td>-1.665469</td>\n",
       "      <td>-1.780526</td>\n",
       "      <td>-1.797305</td>\n",
       "      <td>-2.314282</td>\n",
       "      <td>-2.285733</td>\n",
       "      <td>-2.222334</td>\n",
       "      <td>-2.215843</td>\n",
       "      <td>-2.007260</td>\n",
       "      <td>-2.038216</td>\n",
       "      <td>-1.916342</td>\n",
       "    </tr>\n",
       "    <tr>\n",
       "      <th>2</th>\n",
       "      <td>2007-01-04</td>\n",
       "      <td>000004.SZ</td>\n",
       "      <td>0.0</td>\n",
       "      <td>0.445227</td>\n",
       "      <td>-0.439058</td>\n",
       "      <td>0.644170</td>\n",
       "      <td>0.652227</td>\n",
       "      <td>1.248003</td>\n",
       "      <td>1.261231</td>\n",
       "      <td>0.882330</td>\n",
       "      <td>...</td>\n",
       "      <td>0.168559</td>\n",
       "      <td>0.107048</td>\n",
       "      <td>0.228614</td>\n",
       "      <td>0.127827</td>\n",
       "      <td>-0.238106</td>\n",
       "      <td>-0.137482</td>\n",
       "      <td>-0.225478</td>\n",
       "      <td>-0.291959</td>\n",
       "      <td>-0.409587</td>\n",
       "      <td>-0.330771</td>\n",
       "    </tr>\n",
       "    <tr>\n",
       "      <th>3</th>\n",
       "      <td>2007-01-04</td>\n",
       "      <td>000005.SZ</td>\n",
       "      <td>0.0</td>\n",
       "      <td>0.365916</td>\n",
       "      <td>0.000000</td>\n",
       "      <td>0.673806</td>\n",
       "      <td>0.824679</td>\n",
       "      <td>1.025687</td>\n",
       "      <td>0.535000</td>\n",
       "      <td>0.510086</td>\n",
       "      <td>...</td>\n",
       "      <td>0.284925</td>\n",
       "      <td>0.079114</td>\n",
       "      <td>0.179871</td>\n",
       "      <td>-0.015252</td>\n",
       "      <td>-0.044395</td>\n",
       "      <td>-0.196832</td>\n",
       "      <td>-0.160935</td>\n",
       "      <td>-0.245473</td>\n",
       "      <td>-0.268632</td>\n",
       "      <td>-0.090059</td>\n",
       "    </tr>\n",
       "    <tr>\n",
       "      <th>4</th>\n",
       "      <td>2007-01-04</td>\n",
       "      <td>000006.SZ</td>\n",
       "      <td>0.0</td>\n",
       "      <td>-0.956589</td>\n",
       "      <td>-1.127663</td>\n",
       "      <td>-0.208254</td>\n",
       "      <td>-0.460917</td>\n",
       "      <td>0.105670</td>\n",
       "      <td>-0.566672</td>\n",
       "      <td>0.102743</td>\n",
       "      <td>...</td>\n",
       "      <td>-0.459295</td>\n",
       "      <td>-0.571200</td>\n",
       "      <td>-0.607484</td>\n",
       "      <td>-0.875841</td>\n",
       "      <td>-0.901658</td>\n",
       "      <td>-1.194287</td>\n",
       "      <td>-1.108976</td>\n",
       "      <td>-1.167553</td>\n",
       "      <td>-1.144199</td>\n",
       "      <td>-1.468312</td>\n",
       "    </tr>\n",
       "  </tbody>\n",
       "</table>\n",
       "<p>5 rows × 32 columns</p>\n",
       "</div>"
      ],
      "text/plain": [
       "     end_date stock_code  close_day_lag0  close_day_lag1  close_day_lag2  \\\n",
       "0  2007-01-04  000001.SZ             0.0        1.152984       -0.189501   \n",
       "1  2007-01-04  000002.SZ             0.0       -0.116772       -0.825266   \n",
       "2  2007-01-04  000004.SZ             0.0        0.445227       -0.439058   \n",
       "3  2007-01-04  000005.SZ             0.0        0.365916        0.000000   \n",
       "4  2007-01-04  000006.SZ             0.0       -0.956589       -1.127663   \n",
       "\n",
       "   close_day_lag3  close_day_lag4  close_day_lag5  close_day_lag6  \\\n",
       "0       -0.707711       -1.270391       -0.974698       -1.287721   \n",
       "1       -0.430052       -0.539504       -0.561118       -1.013698   \n",
       "2        0.644170        0.652227        1.248003        1.261231   \n",
       "3        0.673806        0.824679        1.025687        0.535000   \n",
       "4       -0.208254       -0.460917        0.105670       -0.566672   \n",
       "\n",
       "   close_day_lag7  ...  close_day_lag20  close_day_lag21  close_day_lag22  \\\n",
       "0       -1.019862  ...        -0.542033        -0.956269        -0.796646   \n",
       "1       -0.928439  ...        -1.665469        -1.780526        -1.797305   \n",
       "2        0.882330  ...         0.168559         0.107048         0.228614   \n",
       "3        0.510086  ...         0.284925         0.079114         0.179871   \n",
       "4        0.102743  ...        -0.459295        -0.571200        -0.607484   \n",
       "\n",
       "   close_day_lag23  close_day_lag24  close_day_lag25  close_day_lag26  \\\n",
       "0        -0.933699        -0.940420        -0.778582        -0.708488   \n",
       "1        -2.314282        -2.285733        -2.222334        -2.215843   \n",
       "2         0.127827        -0.238106        -0.137482        -0.225478   \n",
       "3        -0.015252        -0.044395        -0.196832        -0.160935   \n",
       "4        -0.875841        -0.901658        -1.194287        -1.108976   \n",
       "\n",
       "   close_day_lag27  close_day_lag28  close_day_lag29  \n",
       "0        -0.709334        -0.576758        -1.092390  \n",
       "1        -2.007260        -2.038216        -1.916342  \n",
       "2        -0.291959        -0.409587        -0.330771  \n",
       "3        -0.245473        -0.268632        -0.090059  \n",
       "4        -1.167553        -1.144199        -1.468312  \n",
       "\n",
       "[5 rows x 32 columns]"
      ]
     },
     "execution_count": 2,
     "metadata": {},
     "output_type": "execute_result"
    }
   ],
   "source": [
    "c0 = pd.read_feather('data2/kbase6/close_2007-01.feather')\n",
    "c0.head()"
   ]
  },
  {
   "cell_type": "markdown",
   "metadata": {},
   "source": [
    "收盘价：用于计算收益率，后作 CSRankNorm 成为label"
   ]
  },
  {
   "cell_type": "code",
   "execution_count": 3,
   "metadata": {},
   "outputs": [
    {
     "data": {
      "text/html": [
       "<div>\n",
       "<style scoped>\n",
       "    .dataframe tbody tr th:only-of-type {\n",
       "        vertical-align: middle;\n",
       "    }\n",
       "\n",
       "    .dataframe tbody tr th {\n",
       "        vertical-align: top;\n",
       "    }\n",
       "\n",
       "    .dataframe thead th {\n",
       "        text-align: right;\n",
       "    }\n",
       "</style>\n",
       "<table border=\"1\" class=\"dataframe\">\n",
       "  <thead>\n",
       "    <tr style=\"text-align: right;\">\n",
       "      <th></th>\n",
       "      <th>s_info_windcode</th>\n",
       "      <th>trade_dt</th>\n",
       "      <th>s_dq_adjclose</th>\n",
       "    </tr>\n",
       "  </thead>\n",
       "  <tbody>\n",
       "    <tr>\n",
       "      <th>0</th>\n",
       "      <td>000001.SZ</td>\n",
       "      <td>20061229</td>\n",
       "      <td>361.97</td>\n",
       "    </tr>\n",
       "    <tr>\n",
       "      <th>1</th>\n",
       "      <td>000002.SZ</td>\n",
       "      <td>20061229</td>\n",
       "      <td>700.45</td>\n",
       "    </tr>\n",
       "    <tr>\n",
       "      <th>2</th>\n",
       "      <td>000004.SZ</td>\n",
       "      <td>20061229</td>\n",
       "      <td>16.02</td>\n",
       "    </tr>\n",
       "    <tr>\n",
       "      <th>3</th>\n",
       "      <td>000005.SZ</td>\n",
       "      <td>20061229</td>\n",
       "      <td>23.08</td>\n",
       "    </tr>\n",
       "    <tr>\n",
       "      <th>4</th>\n",
       "      <td>000006.SZ</td>\n",
       "      <td>20061229</td>\n",
       "      <td>72.25</td>\n",
       "    </tr>\n",
       "  </tbody>\n",
       "</table>\n",
       "</div>"
      ],
      "text/plain": [
       "  s_info_windcode  trade_dt  s_dq_adjclose\n",
       "0       000001.SZ  20061229         361.97\n",
       "1       000002.SZ  20061229         700.45\n",
       "2       000004.SZ  20061229          16.02\n",
       "3       000005.SZ  20061229          23.08\n",
       "4       000006.SZ  20061229          72.25"
      ]
     },
     "execution_count": 3,
     "metadata": {},
     "output_type": "execute_result"
    }
   ],
   "source": [
    "df_close = pd.read_pickle('data2/EODPrices_adjclose.pkl')\n",
    "df_close.head()"
   ]
  },
  {
   "cell_type": "markdown",
   "metadata": {},
   "source": [
    "市值：用于预定义概念矩阵加权"
   ]
  },
  {
   "cell_type": "code",
   "execution_count": 4,
   "metadata": {},
   "outputs": [
    {
     "data": {
      "text/html": [
       "<div>\n",
       "<style scoped>\n",
       "    .dataframe tbody tr th:only-of-type {\n",
       "        vertical-align: middle;\n",
       "    }\n",
       "\n",
       "    .dataframe tbody tr th {\n",
       "        vertical-align: top;\n",
       "    }\n",
       "\n",
       "    .dataframe thead th {\n",
       "        text-align: right;\n",
       "    }\n",
       "</style>\n",
       "<table border=\"1\" class=\"dataframe\">\n",
       "  <thead>\n",
       "    <tr style=\"text-align: right;\">\n",
       "      <th></th>\n",
       "      <th></th>\n",
       "      <th>$market_value</th>\n",
       "    </tr>\n",
       "    <tr>\n",
       "      <th>datetime</th>\n",
       "      <th>instrument</th>\n",
       "      <th></th>\n",
       "    </tr>\n",
       "  </thead>\n",
       "  <tbody>\n",
       "    <tr>\n",
       "      <th rowspan=\"5\" valign=\"top\">2006-12-29</th>\n",
       "      <th>000001.SZ</th>\n",
       "      <td>2.815605e+06</td>\n",
       "    </tr>\n",
       "    <tr>\n",
       "      <th>000002.SZ</th>\n",
       "      <td>6.747124e+06</td>\n",
       "    </tr>\n",
       "    <tr>\n",
       "      <th>000004.SZ</th>\n",
       "      <td>3.443044e+04</td>\n",
       "    </tr>\n",
       "    <tr>\n",
       "      <th>000005.SZ</th>\n",
       "      <td>2.276691e+05</td>\n",
       "    </tr>\n",
       "    <tr>\n",
       "      <th>000006.SZ</th>\n",
       "      <td>3.400664e+05</td>\n",
       "    </tr>\n",
       "    <tr>\n",
       "      <th>...</th>\n",
       "      <th>...</th>\n",
       "      <td>...</td>\n",
       "    </tr>\n",
       "    <tr>\n",
       "      <th rowspan=\"5\" valign=\"top\">2024-05-23</th>\n",
       "      <th>873703.BJ</th>\n",
       "      <td>1.933574e+05</td>\n",
       "    </tr>\n",
       "    <tr>\n",
       "      <th>873706.BJ</th>\n",
       "      <td>9.961285e+04</td>\n",
       "    </tr>\n",
       "    <tr>\n",
       "      <th>873726.BJ</th>\n",
       "      <td>1.554543e+05</td>\n",
       "    </tr>\n",
       "    <tr>\n",
       "      <th>873806.BJ</th>\n",
       "      <td>2.604380e+05</td>\n",
       "    </tr>\n",
       "    <tr>\n",
       "      <th>873833.BJ</th>\n",
       "      <td>7.231208e+04</td>\n",
       "    </tr>\n",
       "  </tbody>\n",
       "</table>\n",
       "<p>19729818 rows × 1 columns</p>\n",
       "</div>"
      ],
      "text/plain": [
       "                       $market_value\n",
       "datetime   instrument               \n",
       "2006-12-29 000001.SZ    2.815605e+06\n",
       "           000002.SZ    6.747124e+06\n",
       "           000004.SZ    3.443044e+04\n",
       "           000005.SZ    2.276691e+05\n",
       "           000006.SZ    3.400664e+05\n",
       "...                              ...\n",
       "2024-05-23 873703.BJ    1.933574e+05\n",
       "           873706.BJ    9.961285e+04\n",
       "           873726.BJ    1.554543e+05\n",
       "           873806.BJ    2.604380e+05\n",
       "           873833.BJ    7.231208e+04\n",
       "\n",
       "[19729818 rows x 1 columns]"
      ]
     },
     "execution_count": 4,
     "metadata": {},
     "output_type": "execute_result"
    }
   ],
   "source": [
    "stock2mkt = pd.read_pickle('data2/stock2mkt07_24_date.pkl')\n",
    "stock2mkt"
   ]
  },
  {
   "cell_type": "markdown",
   "metadata": {},
   "source": [
    "股票-索引：字典，用于提取batch数值"
   ]
  },
  {
   "cell_type": "code",
   "execution_count": 9,
   "metadata": {},
   "outputs": [
    {
     "data": {
      "text/plain": [
       "0"
      ]
     },
     "execution_count": 9,
     "metadata": {},
     "output_type": "execute_result"
    }
   ],
   "source": [
    "stock2index = np.load('data2/stock2index._5484.npy', allow_pickle=True)\n",
    "stock2index.item()['872925.BJ']"
   ]
  },
  {
   "cell_type": "markdown",
   "metadata": {},
   "source": [
    "预定义概念：用于生成预定义概念矩阵"
   ]
  },
  {
   "cell_type": "code",
   "execution_count": 10,
   "metadata": {},
   "outputs": [
    {
     "data": {
      "text/html": [
       "<div>\n",
       "<style scoped>\n",
       "    .dataframe tbody tr th:only-of-type {\n",
       "        vertical-align: middle;\n",
       "    }\n",
       "\n",
       "    .dataframe tbody tr th {\n",
       "        vertical-align: top;\n",
       "    }\n",
       "\n",
       "    .dataframe thead th {\n",
       "        text-align: right;\n",
       "    }\n",
       "</style>\n",
       "<table border=\"1\" class=\"dataframe\">\n",
       "  <thead>\n",
       "    <tr style=\"text-align: right;\">\n",
       "      <th></th>\n",
       "      <th>end_date</th>\n",
       "      <th>ts_code</th>\n",
       "      <th>bz_item</th>\n",
       "      <th>concept</th>\n",
       "    </tr>\n",
       "  </thead>\n",
       "  <tbody>\n",
       "    <tr>\n",
       "      <th>0</th>\n",
       "      <td>20081231</td>\n",
       "      <td>000001.SZ</td>\n",
       "      <td>个人贷款和垫款</td>\n",
       "      <td>1</td>\n",
       "    </tr>\n",
       "    <tr>\n",
       "      <th>1</th>\n",
       "      <td>20081231</td>\n",
       "      <td>000001.SZ</td>\n",
       "      <td>交易性金融资产</td>\n",
       "      <td>1</td>\n",
       "    </tr>\n",
       "    <tr>\n",
       "      <th>2</th>\n",
       "      <td>20081231</td>\n",
       "      <td>000001.SZ</td>\n",
       "      <td>代理委托业务</td>\n",
       "      <td>1</td>\n",
       "    </tr>\n",
       "    <tr>\n",
       "      <th>3</th>\n",
       "      <td>20081231</td>\n",
       "      <td>000001.SZ</td>\n",
       "      <td>公司贷款和垫款</td>\n",
       "      <td>1</td>\n",
       "    </tr>\n",
       "    <tr>\n",
       "      <th>4</th>\n",
       "      <td>20081231</td>\n",
       "      <td>000001.SZ</td>\n",
       "      <td>其他业务</td>\n",
       "      <td>1</td>\n",
       "    </tr>\n",
       "    <tr>\n",
       "      <th>...</th>\n",
       "      <td>...</td>\n",
       "      <td>...</td>\n",
       "      <td>...</td>\n",
       "      <td>...</td>\n",
       "    </tr>\n",
       "    <tr>\n",
       "      <th>411106</th>\n",
       "      <td>20230630</td>\n",
       "      <td>688799.SH</td>\n",
       "      <td>原料药及中间体</td>\n",
       "      <td>1</td>\n",
       "    </tr>\n",
       "    <tr>\n",
       "      <th>411107</th>\n",
       "      <td>20230630</td>\n",
       "      <td>688799.SH</td>\n",
       "      <td>提供服务</td>\n",
       "      <td>1</td>\n",
       "    </tr>\n",
       "    <tr>\n",
       "      <th>411108</th>\n",
       "      <td>20230630</td>\n",
       "      <td>688819.SH</td>\n",
       "      <td>其他业务</td>\n",
       "      <td>1</td>\n",
       "    </tr>\n",
       "    <tr>\n",
       "      <th>411109</th>\n",
       "      <td>20230630</td>\n",
       "      <td>688981.SH</td>\n",
       "      <td>其他-其他</td>\n",
       "      <td>1</td>\n",
       "    </tr>\n",
       "    <tr>\n",
       "      <th>411110</th>\n",
       "      <td>20230630</td>\n",
       "      <td>688981.SH</td>\n",
       "      <td>其他业务</td>\n",
       "      <td>1</td>\n",
       "    </tr>\n",
       "  </tbody>\n",
       "</table>\n",
       "<p>411111 rows × 4 columns</p>\n",
       "</div>"
      ],
      "text/plain": [
       "        end_date    ts_code  bz_item  concept\n",
       "0       20081231  000001.SZ  个人贷款和垫款        1\n",
       "1       20081231  000001.SZ  交易性金融资产        1\n",
       "2       20081231  000001.SZ   代理委托业务        1\n",
       "3       20081231  000001.SZ  公司贷款和垫款        1\n",
       "4       20081231  000001.SZ     其他业务        1\n",
       "...          ...        ...      ...      ...\n",
       "411106  20230630  688799.SH  原料药及中间体        1\n",
       "411107  20230630  688799.SH     提供服务        1\n",
       "411108  20230630  688819.SH     其他业务        1\n",
       "411109  20230630  688981.SH    其他-其他        1\n",
       "411110  20230630  688981.SH     其他业务        1\n",
       "\n",
       "[411111 rows x 4 columns]"
      ]
     },
     "execution_count": 10,
     "metadata": {},
     "output_type": "execute_result"
    }
   ],
   "source": [
    "concept_df = pd.read_csv('data2/csi985_concept_all.csv')\n",
    "concept_df"
   ]
  },
  {
   "cell_type": "markdown",
   "metadata": {},
   "source": [
    "预定义概念矩阵生成过程：大约需要10分钟，生成约1G的文件"
   ]
  },
  {
   "cell_type": "code",
   "execution_count": null,
   "metadata": {},
   "outputs": [],
   "source": [
    "df = concept_df.copy()\n",
    "\n",
    "# 创建股票和概念的索引字典\n",
    "stock2ind = stock2index.item() #stock2ind.tolist()\n",
    "\n",
    "def create_adjacency_matrices(df, stock2index):\n",
    "    # 提取所有时间点\n",
    "    times = df['end_date'].unique()\n",
    "    \n",
    "    # 初始化结果字典\n",
    "    adjacency_matrices = {}\n",
    "    \n",
    "    for time in times:\n",
    "        # 过滤出当前时间点的数据\n",
    "        time_df = df[df['end_date'] == time]\n",
    "        time_concept2index = {conce: idx for idx, conce in enumerate(time_df['bz_item'].unique())}\n",
    "        \n",
    "        # 使用pivot_table创建邻接矩阵\n",
    "        pivot = time_df.pivot_table(index='ts_code', columns='bz_item', aggfunc='size', fill_value=0)\n",
    "        \n",
    "        # 转换为邻接矩阵\n",
    "        adj_matrix = np.zeros((len(stock2index), len(time_concept2index)))\n",
    "        for stock in pivot.index:\n",
    "            for concept in pivot.columns:\n",
    "                stock_idx = stock2index[stock]\n",
    "                concept_idx = time_concept2index[concept]\n",
    "                adj_matrix[stock_idx, concept_idx] = pivot.at[stock, concept]\n",
    "        \n",
    "        adjacency_matrices[time] = adj_matrix\n",
    "    \n",
    "    return adjacency_matrices\n",
    "\n",
    "# 调用函数生成邻接矩阵字典\n",
    "adjacency_matrices2 = create_adjacency_matrices(df, stock2ind)\n"
   ]
  },
  {
   "cell_type": "code",
   "execution_count": null,
   "metadata": {},
   "outputs": [],
   "source": [
    "# 预定义概念矩阵保存\n",
    "with open('data2/stock2concept12_6_t_5484.pkl', 'wb') as f:\n",
    "    pickle.dump(adjacency_matrices2, f)"
   ]
  },
  {
   "cell_type": "code",
   "execution_count": 16,
   "metadata": {},
   "outputs": [],
   "source": [
    "# 预定义概念矩阵预览\n",
    "with open('data2/stock2concept12_6_t_5484.pkl','rb') as f:\n",
    "        stock2concepts=pickle.load(f)"
   ]
  },
  {
   "cell_type": "code",
   "execution_count": 20,
   "metadata": {},
   "outputs": [
    {
     "data": {
      "text/plain": [
       "dict_keys([20081231, 20091231, 20100630, 20101231, 20110630, 20111231, 20120630, 20121231, 20130630, 20131231, 20140630, 20141231, 20150630, 20151231, 20160630, 20161231, 20170630, 20171231, 20180630, 20181231, 20190630, 20191231, 20200630, 20201231, 20210630, 20211231, 20220630, 20221231, 20230630])"
      ]
     },
     "execution_count": 20,
     "metadata": {},
     "output_type": "execute_result"
    }
   ],
   "source": [
    "stock2concepts.keys()"
   ]
  },
  {
   "cell_type": "code",
   "execution_count": 23,
   "metadata": {},
   "outputs": [
    {
     "data": {
      "text/plain": [
       "(5484, 869)"
      ]
     },
     "execution_count": 23,
     "metadata": {},
     "output_type": "execute_result"
    }
   ],
   "source": [
    "stock2concepts[20091231].shape"
   ]
  },
  {
   "cell_type": "code",
   "execution_count": 22,
   "metadata": {},
   "outputs": [
    {
     "data": {
      "text/plain": [
       "array([[0., 0., 0., ..., 0., 0., 0.],\n",
       "       [0., 0., 0., ..., 0., 0., 0.],\n",
       "       [0., 0., 0., ..., 0., 0., 0.],\n",
       "       ...,\n",
       "       [0., 0., 0., ..., 0., 0., 0.],\n",
       "       [0., 0., 0., ..., 0., 0., 0.],\n",
       "       [0., 0., 0., ..., 0., 0., 0.]])"
      ]
     },
     "execution_count": 22,
     "metadata": {},
     "output_type": "execute_result"
    }
   ],
   "source": [
    "stock2concepts[20091231]"
   ]
  },
  {
   "cell_type": "markdown",
   "metadata": {},
   "source": [
    "以上输入数据中，与日期有关的列尽量都转为datetime格式，stock2concepts例外，其index日期格式为int"
   ]
  },
  {
   "cell_type": "markdown",
   "metadata": {},
   "source": [
    "训练时 运行 python learn_label.py 即可"
   ]
  },
  {
   "cell_type": "markdown",
   "metadata": {},
   "source": [
    "## output 结果分析"
   ]
  },
  {
   "cell_type": "code",
   "execution_count": 12,
   "metadata": {},
   "outputs": [
    {
     "data": {
      "text/html": [
       "<div>\n",
       "<style scoped>\n",
       "    .dataframe tbody tr th:only-of-type {\n",
       "        vertical-align: middle;\n",
       "    }\n",
       "\n",
       "    .dataframe tbody tr th {\n",
       "        vertical-align: top;\n",
       "    }\n",
       "\n",
       "    .dataframe thead th {\n",
       "        text-align: right;\n",
       "    }\n",
       "</style>\n",
       "<table border=\"1\" class=\"dataframe\">\n",
       "  <thead>\n",
       "    <tr style=\"text-align: right;\">\n",
       "      <th></th>\n",
       "      <th></th>\n",
       "      <th>score</th>\n",
       "      <th>label</th>\n",
       "    </tr>\n",
       "    <tr>\n",
       "      <th>datetime</th>\n",
       "      <th>instrument</th>\n",
       "      <th></th>\n",
       "      <th></th>\n",
       "    </tr>\n",
       "  </thead>\n",
       "  <tbody>\n",
       "    <tr>\n",
       "      <th rowspan=\"5\" valign=\"top\">2019-01-02</th>\n",
       "      <th>000001.SZ</th>\n",
       "      <td>0.088952</td>\n",
       "      <td>1.322613</td>\n",
       "    </tr>\n",
       "    <tr>\n",
       "      <th>000002.SZ</th>\n",
       "      <td>-0.016623</td>\n",
       "      <td>-0.088791</td>\n",
       "    </tr>\n",
       "    <tr>\n",
       "      <th>000004.SZ</th>\n",
       "      <td>-0.114561</td>\n",
       "      <td>-0.853687</td>\n",
       "    </tr>\n",
       "    <tr>\n",
       "      <th>000005.SZ</th>\n",
       "      <td>-0.068800</td>\n",
       "      <td>1.403080</td>\n",
       "    </tr>\n",
       "    <tr>\n",
       "      <th>000006.SZ</th>\n",
       "      <td>-0.170035</td>\n",
       "      <td>-0.604887</td>\n",
       "    </tr>\n",
       "    <tr>\n",
       "      <th>...</th>\n",
       "      <th>...</th>\n",
       "      <td>...</td>\n",
       "      <td>...</td>\n",
       "    </tr>\n",
       "    <tr>\n",
       "      <th rowspan=\"5\" valign=\"top\">2023-09-28</th>\n",
       "      <th>873339.BJ</th>\n",
       "      <td>0.075396</td>\n",
       "      <td>0.894825</td>\n",
       "    </tr>\n",
       "    <tr>\n",
       "      <th>873527.BJ</th>\n",
       "      <td>0.194868</td>\n",
       "      <td>1.094545</td>\n",
       "    </tr>\n",
       "    <tr>\n",
       "      <th>873576.BJ</th>\n",
       "      <td>-0.111411</td>\n",
       "      <td>-0.501259</td>\n",
       "    </tr>\n",
       "    <tr>\n",
       "      <th>873593.BJ</th>\n",
       "      <td>-0.254025</td>\n",
       "      <td>-1.731561</td>\n",
       "    </tr>\n",
       "    <tr>\n",
       "      <th>873665.BJ</th>\n",
       "      <td>-0.339562</td>\n",
       "      <td>-0.726433</td>\n",
       "    </tr>\n",
       "  </tbody>\n",
       "</table>\n",
       "<p>5021373 rows × 2 columns</p>\n",
       "</div>"
      ],
      "text/plain": [
       "                          score     label\n",
       "datetime   instrument                    \n",
       "2019-01-02 000001.SZ   0.088952  1.322613\n",
       "           000002.SZ  -0.016623 -0.088791\n",
       "           000004.SZ  -0.114561 -0.853687\n",
       "           000005.SZ  -0.068800  1.403080\n",
       "           000006.SZ  -0.170035 -0.604887\n",
       "...                         ...       ...\n",
       "2023-09-28 873339.BJ   0.075396  0.894825\n",
       "           873527.BJ   0.194868  1.094545\n",
       "           873576.BJ  -0.111411 -0.501259\n",
       "           873593.BJ  -0.254025 -1.731561\n",
       "           873665.BJ  -0.339562 -0.726433\n",
       "\n",
       "[5021373 rows x 2 columns]"
      ]
     },
     "execution_count": 12,
     "metadata": {},
     "output_type": "execute_result"
    }
   ],
   "source": [
    "test_pred = pickle.load(open('output/all_HIST_label11to1_CSRankN/rolling2007-01-01/pred.pkl.test0','rb'))\n",
    "test_pred"
   ]
  },
  {
   "cell_type": "markdown",
   "metadata": {},
   "source": [
    "rankIC%"
   ]
  },
  {
   "cell_type": "code",
   "execution_count": 14,
   "metadata": {},
   "outputs": [
    {
     "data": {
      "text/plain": [
       "11.269636199752094"
      ]
     },
     "execution_count": 14,
     "metadata": {},
     "output_type": "execute_result"
    }
   ],
   "source": [
    "test_pred.groupby(level='datetime').apply(lambda x: x['label'].corr(x['score'], method='spearman')).mean()*100"
   ]
  },
  {
   "cell_type": "code",
   "execution_count": 15,
   "metadata": {},
   "outputs": [
    {
     "data": {
      "text/html": [
       "<div>\n",
       "<style scoped>\n",
       "    .dataframe tbody tr th:only-of-type {\n",
       "        vertical-align: middle;\n",
       "    }\n",
       "\n",
       "    .dataframe tbody tr th {\n",
       "        vertical-align: top;\n",
       "    }\n",
       "\n",
       "    .dataframe thead th {\n",
       "        text-align: right;\n",
       "    }\n",
       "</style>\n",
       "<table border=\"1\" class=\"dataframe\">\n",
       "  <thead>\n",
       "    <tr style=\"text-align: right;\">\n",
       "      <th></th>\n",
       "      <th>rankIC</th>\n",
       "    </tr>\n",
       "    <tr>\n",
       "      <th>y</th>\n",
       "      <th></th>\n",
       "    </tr>\n",
       "  </thead>\n",
       "  <tbody>\n",
       "    <tr>\n",
       "      <th>2019</th>\n",
       "      <td>13.015870</td>\n",
       "    </tr>\n",
       "    <tr>\n",
       "      <th>2020</th>\n",
       "      <td>10.570241</td>\n",
       "    </tr>\n",
       "    <tr>\n",
       "      <th>2021</th>\n",
       "      <td>10.562087</td>\n",
       "    </tr>\n",
       "    <tr>\n",
       "      <th>2022</th>\n",
       "      <td>12.065687</td>\n",
       "    </tr>\n",
       "    <tr>\n",
       "      <th>2023</th>\n",
       "      <td>9.748550</td>\n",
       "    </tr>\n",
       "  </tbody>\n",
       "</table>\n",
       "</div>"
      ],
      "text/plain": [
       "         rankIC\n",
       "y              \n",
       "2019  13.015870\n",
       "2020  10.570241\n",
       "2021  10.562087\n",
       "2022  12.065687\n",
       "2023   9.748550"
      ]
     },
     "execution_count": 15,
     "metadata": {},
     "output_type": "execute_result"
    }
   ],
   "source": [
    "ic_TRA = test_pred.groupby(level='datetime').apply(lambda x: x['label'].corr(x['score'], method='spearman'))\n",
    "ic_TRA = ic_TRA.reset_index()\n",
    "ic_TRA.columns = ['date','rankIC']\n",
    "ic_TRA['y'] = ic_TRA.date.apply(lambda x: str(x)[:4])\n",
    "ic_TRA.groupby('y').mean(numeric_only=True)*100"
   ]
  },
  {
   "cell_type": "code",
   "execution_count": null,
   "metadata": {},
   "outputs": [],
   "source": []
  }
 ],
 "metadata": {
  "kernelspec": {
   "display_name": "base",
   "language": "python",
   "name": "python3"
  },
  "language_info": {
   "codemirror_mode": {
    "name": "ipython",
    "version": 3
   },
   "file_extension": ".py",
   "mimetype": "text/x-python",
   "name": "python",
   "nbconvert_exporter": "python",
   "pygments_lexer": "ipython3",
   "version": "3.10.8"
  }
 },
 "nbformat": 4,
 "nbformat_minor": 2
}
