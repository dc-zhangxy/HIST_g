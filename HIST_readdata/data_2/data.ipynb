{
 "cells": [
  {
   "cell_type": "code",
   "execution_count": 1,
   "metadata": {},
   "outputs": [
    {
     "name": "stderr",
     "output_type": "stream",
     "text": [
      "c:\\Users\\sufedc5\\AppData\\Local\\Continuum\\anaconda3\\lib\\site-packages\\pandas\\compat\\_optional.py:138: UserWarning: Pandas requires version '2.7.0' or newer of 'numexpr' (version '2.6.9' currently installed).\n",
      "  warnings.warn(msg, UserWarning)\n"
     ]
    }
   ],
   "source": [
    "import pandas as pd\n",
    "import pickle "
   ]
  },
  {
   "cell_type": "code",
   "execution_count": 2,
   "metadata": {},
   "outputs": [],
   "source": [
    "import feather"
   ]
  },
  {
   "cell_type": "markdown",
   "metadata": {},
   "source": [
    "生成stock2market"
   ]
  },
  {
   "cell_type": "code",
   "execution_count": 9,
   "metadata": {},
   "outputs": [],
   "source": [
    "DerivativeIndicator = pd.read_feather('AShareEODDerivativeIndicator.feather')"
   ]
  },
  {
   "cell_type": "code",
   "execution_count": 10,
   "metadata": {},
   "outputs": [
    {
     "data": {
      "text/plain": [
       "Index(['s_info_windcode', 'trade_dt', 's_dq_turn', 's_dq_freeturnover',\n",
       "       'tot_shr_today', 'float_a_shr_today', 's_val_mv', 's_dq_mv', 's_val_pe',\n",
       "       's_val_pe_ttm', 's_val_ps', 's_val_ps_ttm',\n",
       "       'net_profit_parent_comp_ttm', 'net_profit_parent_comp_lyr',\n",
       "       'oper_rev_ttm', 'oper_rev_lyr', 'net_assets_today',\n",
       "       'net_cash_flows_oper_act_ttm', 'net_cash_flows_oper_act_lyr'],\n",
       "      dtype='object')"
      ]
     },
     "execution_count": 10,
     "metadata": {},
     "output_type": "execute_result"
    }
   ],
   "source": [
    "DerivativeIndicator.columns  # ['s_info_windcode', 'trade_dt', 's_val_mv']"
   ]
  },
  {
   "cell_type": "code",
   "execution_count": 12,
   "metadata": {},
   "outputs": [
    {
     "data": {
      "text/html": [
       "<div>\n",
       "<style scoped>\n",
       "    .dataframe tbody tr th:only-of-type {\n",
       "        vertical-align: middle;\n",
       "    }\n",
       "\n",
       "    .dataframe tbody tr th {\n",
       "        vertical-align: top;\n",
       "    }\n",
       "\n",
       "    .dataframe thead th {\n",
       "        text-align: right;\n",
       "    }\n",
       "</style>\n",
       "<table border=\"1\" class=\"dataframe\">\n",
       "  <thead>\n",
       "    <tr style=\"text-align: right;\">\n",
       "      <th></th>\n",
       "      <th>s_info_windcode</th>\n",
       "      <th>trade_dt</th>\n",
       "      <th>s_val_mv</th>\n",
       "    </tr>\n",
       "  </thead>\n",
       "  <tbody>\n",
       "    <tr>\n",
       "      <th>0</th>\n",
       "      <td>000001.SZ</td>\n",
       "      <td>20061229</td>\n",
       "      <td>2.815605e+06</td>\n",
       "    </tr>\n",
       "    <tr>\n",
       "      <th>1</th>\n",
       "      <td>000002.SZ</td>\n",
       "      <td>20061229</td>\n",
       "      <td>6.747124e+06</td>\n",
       "    </tr>\n",
       "    <tr>\n",
       "      <th>2</th>\n",
       "      <td>000004.SZ</td>\n",
       "      <td>20061229</td>\n",
       "      <td>3.443044e+04</td>\n",
       "    </tr>\n",
       "    <tr>\n",
       "      <th>3</th>\n",
       "      <td>000005.SZ</td>\n",
       "      <td>20061229</td>\n",
       "      <td>2.276691e+05</td>\n",
       "    </tr>\n",
       "    <tr>\n",
       "      <th>4</th>\n",
       "      <td>000006.SZ</td>\n",
       "      <td>20061229</td>\n",
       "      <td>3.400664e+05</td>\n",
       "    </tr>\n",
       "    <tr>\n",
       "      <th>...</th>\n",
       "      <td>...</td>\n",
       "      <td>...</td>\n",
       "      <td>...</td>\n",
       "    </tr>\n",
       "    <tr>\n",
       "      <th>19729813</th>\n",
       "      <td>873703.BJ</td>\n",
       "      <td>20240523</td>\n",
       "      <td>1.933574e+05</td>\n",
       "    </tr>\n",
       "    <tr>\n",
       "      <th>19729814</th>\n",
       "      <td>873706.BJ</td>\n",
       "      <td>20240523</td>\n",
       "      <td>9.961285e+04</td>\n",
       "    </tr>\n",
       "    <tr>\n",
       "      <th>19729815</th>\n",
       "      <td>873726.BJ</td>\n",
       "      <td>20240523</td>\n",
       "      <td>1.554543e+05</td>\n",
       "    </tr>\n",
       "    <tr>\n",
       "      <th>19729816</th>\n",
       "      <td>873806.BJ</td>\n",
       "      <td>20240523</td>\n",
       "      <td>2.604380e+05</td>\n",
       "    </tr>\n",
       "    <tr>\n",
       "      <th>19729817</th>\n",
       "      <td>873833.BJ</td>\n",
       "      <td>20240523</td>\n",
       "      <td>7.231208e+04</td>\n",
       "    </tr>\n",
       "  </tbody>\n",
       "</table>\n",
       "<p>19729818 rows × 3 columns</p>\n",
       "</div>"
      ],
      "text/plain": [
       "         s_info_windcode  trade_dt      s_val_mv\n",
       "0              000001.SZ  20061229  2.815605e+06\n",
       "1              000002.SZ  20061229  6.747124e+06\n",
       "2              000004.SZ  20061229  3.443044e+04\n",
       "3              000005.SZ  20061229  2.276691e+05\n",
       "4              000006.SZ  20061229  3.400664e+05\n",
       "...                  ...       ...           ...\n",
       "19729813       873703.BJ  20240523  1.933574e+05\n",
       "19729814       873706.BJ  20240523  9.961285e+04\n",
       "19729815       873726.BJ  20240523  1.554543e+05\n",
       "19729816       873806.BJ  20240523  2.604380e+05\n",
       "19729817       873833.BJ  20240523  7.231208e+04\n",
       "\n",
       "[19729818 rows x 3 columns]"
      ]
     },
     "execution_count": 12,
     "metadata": {},
     "output_type": "execute_result"
    }
   ],
   "source": [
    "market_value = DerivativeIndicator[['s_info_windcode', 'trade_dt', 's_val_mv']]\n",
    "market_value"
   ]
  },
  {
   "cell_type": "code",
   "execution_count": 16,
   "metadata": {},
   "outputs": [],
   "source": [
    "stock2mkt07_24 = market_value.rename(columns={'s_info_windcode':'instrument', 'trade_dt':'datetime', 's_val_mv':'$market_value'}).set_index(['datetime','instrument'])"
   ]
  },
  {
   "cell_type": "code",
   "execution_count": 17,
   "metadata": {},
   "outputs": [],
   "source": [
    "# import pickle\n",
    "# 保存文件\n",
    "# with open('stock2mkt07_24.pkl', 'wb') as f:\n",
    "#     pickle.dump(stock2mkt07_24, f)"
   ]
  },
  {
   "cell_type": "markdown",
   "metadata": {},
   "source": [
    "生成label"
   ]
  },
  {
   "cell_type": "code",
   "execution_count": 18,
   "metadata": {},
   "outputs": [],
   "source": [
    "EODPrices = pd.read_feather('AShareEODPrices.feather') # ['s_info_windcode', 'trade_dt', 's_dq_adjclose']"
   ]
  },
  {
   "cell_type": "code",
   "execution_count": 20,
   "metadata": {},
   "outputs": [],
   "source": [
    "EODPrices_adjclose = EODPrices[['s_info_windcode', 'trade_dt', 's_dq_adjclose']]"
   ]
  },
  {
   "cell_type": "code",
   "execution_count": 21,
   "metadata": {},
   "outputs": [],
   "source": [
    "# 保存文件\n",
    "with open('EODPrices_adjclose.pkl', 'wb') as f:\n",
    "    pickle.dump(EODPrices_adjclose, f)"
   ]
  },
  {
   "cell_type": "code",
   "execution_count": 3,
   "metadata": {},
   "outputs": [
    {
     "data": {
      "text/html": [
       "<div>\n",
       "<style scoped>\n",
       "    .dataframe tbody tr th:only-of-type {\n",
       "        vertical-align: middle;\n",
       "    }\n",
       "\n",
       "    .dataframe tbody tr th {\n",
       "        vertical-align: top;\n",
       "    }\n",
       "\n",
       "    .dataframe thead th {\n",
       "        text-align: right;\n",
       "    }\n",
       "</style>\n",
       "<table border=\"1\" class=\"dataframe\">\n",
       "  <thead>\n",
       "    <tr style=\"text-align: right;\">\n",
       "      <th></th>\n",
       "      <th></th>\n",
       "      <th>$market_value</th>\n",
       "    </tr>\n",
       "    <tr>\n",
       "      <th>datetime</th>\n",
       "      <th>instrument</th>\n",
       "      <th></th>\n",
       "    </tr>\n",
       "  </thead>\n",
       "  <tbody>\n",
       "    <tr>\n",
       "      <th rowspan=\"5\" valign=\"top\">20061229</th>\n",
       "      <th>000001.SZ</th>\n",
       "      <td>2.815605e+06</td>\n",
       "    </tr>\n",
       "    <tr>\n",
       "      <th>000002.SZ</th>\n",
       "      <td>6.747124e+06</td>\n",
       "    </tr>\n",
       "    <tr>\n",
       "      <th>000004.SZ</th>\n",
       "      <td>3.443044e+04</td>\n",
       "    </tr>\n",
       "    <tr>\n",
       "      <th>000005.SZ</th>\n",
       "      <td>2.276691e+05</td>\n",
       "    </tr>\n",
       "    <tr>\n",
       "      <th>000006.SZ</th>\n",
       "      <td>3.400664e+05</td>\n",
       "    </tr>\n",
       "    <tr>\n",
       "      <th>...</th>\n",
       "      <th>...</th>\n",
       "      <td>...</td>\n",
       "    </tr>\n",
       "    <tr>\n",
       "      <th rowspan=\"5\" valign=\"top\">20240523</th>\n",
       "      <th>873703.BJ</th>\n",
       "      <td>1.933574e+05</td>\n",
       "    </tr>\n",
       "    <tr>\n",
       "      <th>873706.BJ</th>\n",
       "      <td>9.961285e+04</td>\n",
       "    </tr>\n",
       "    <tr>\n",
       "      <th>873726.BJ</th>\n",
       "      <td>1.554543e+05</td>\n",
       "    </tr>\n",
       "    <tr>\n",
       "      <th>873806.BJ</th>\n",
       "      <td>2.604380e+05</td>\n",
       "    </tr>\n",
       "    <tr>\n",
       "      <th>873833.BJ</th>\n",
       "      <td>7.231208e+04</td>\n",
       "    </tr>\n",
       "  </tbody>\n",
       "</table>\n",
       "<p>19729818 rows × 1 columns</p>\n",
       "</div>"
      ],
      "text/plain": [
       "                     $market_value\n",
       "datetime instrument               \n",
       "20061229 000001.SZ    2.815605e+06\n",
       "         000002.SZ    6.747124e+06\n",
       "         000004.SZ    3.443044e+04\n",
       "         000005.SZ    2.276691e+05\n",
       "         000006.SZ    3.400664e+05\n",
       "...                            ...\n",
       "20240523 873703.BJ    1.933574e+05\n",
       "         873706.BJ    9.961285e+04\n",
       "         873726.BJ    1.554543e+05\n",
       "         873806.BJ    2.604380e+05\n",
       "         873833.BJ    7.231208e+04\n",
       "\n",
       "[19729818 rows x 1 columns]"
      ]
     },
     "execution_count": 3,
     "metadata": {},
     "output_type": "execute_result"
    }
   ],
   "source": [
    "pd.read_pickle('stock2mkt07_24.pkl')"
   ]
  },
  {
   "cell_type": "code",
   "execution_count": 4,
   "metadata": {},
   "outputs": [],
   "source": [
    "# 读取文件\n",
    "with open('stock2mkt07_24.pkl', 'rb') as f:\n",
    "    stock2mkt07_24 = pickle.load(f)"
   ]
  },
  {
   "cell_type": "markdown",
   "metadata": {},
   "source": [
    "生成feature"
   ]
  },
  {
   "cell_type": "code",
   "execution_count": null,
   "metadata": {},
   "outputs": [],
   "source": []
  }
 ],
 "metadata": {
  "kernelspec": {
   "display_name": "base",
   "language": "python",
   "name": "python3"
  },
  "language_info": {
   "codemirror_mode": {
    "name": "ipython",
    "version": 3
   },
   "file_extension": ".py",
   "mimetype": "text/x-python",
   "name": "python",
   "nbconvert_exporter": "python",
   "pygments_lexer": "ipython3",
   "version": "3.7.3"
  }
 },
 "nbformat": 4,
 "nbformat_minor": 2
}
