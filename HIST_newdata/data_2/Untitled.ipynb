{
 "cells": [
  {
   "cell_type": "code",
   "execution_count": 2,
   "id": "459260ad-6b53-47e7-8e15-09757b3062b7",
   "metadata": {},
   "outputs": [
    {
     "name": "stdout",
     "output_type": "stream",
     "text": [
      "20070101\n",
      "20070701\n",
      "20080101\n",
      "20080701\n",
      "20090101\n",
      "20090701\n",
      "20100101\n",
      "20100701\n",
      "20110101\n",
      "20110701\n",
      "20120101\n",
      "20120701\n",
      "20130101\n",
      "20130701\n",
      "20140101\n",
      "20140701\n",
      "20150101\n",
      "20150701\n",
      "20160101\n",
      "20160701\n",
      "20170101\n",
      "20170701\n",
      "20180101\n",
      "20180701\n",
      "20190101\n",
      "20190701\n",
      "20200101\n",
      "20200701\n",
      "20210101\n",
      "20210701\n",
      "20220101\n",
      "20220701\n",
      "20230101\n"
     ]
    }
   ],
   "source": [
    "import pickle\n",
    "with open('stock2concept.pkl','rb')as f:\n",
    "    stock2concepts=pickle.load(f)\n",
    "for i in stock2concepts:\n",
    "    print(i)"
   ]
  },
  {
   "cell_type": "code",
   "execution_count": null,
   "id": "787e9877-7908-46dd-a776-cb3d4ca2bc62",
   "metadata": {},
   "outputs": [],
   "source": []
  }
 ],
 "metadata": {
  "kernelspec": {
   "display_name": "Python 3 (ipykernel)",
   "language": "python",
   "name": "python3"
  },
  "language_info": {
   "codemirror_mode": {
    "name": "ipython",
    "version": 3
   },
   "file_extension": ".py",
   "mimetype": "text/x-python",
   "name": "python",
   "nbconvert_exporter": "python",
   "pygments_lexer": "ipython3",
   "version": "3.8.10"
  }
 },
 "nbformat": 4,
 "nbformat_minor": 5
}
